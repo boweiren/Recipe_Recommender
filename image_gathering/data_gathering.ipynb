{
  "nbformat": 4,
  "nbformat_minor": 0,
  "metadata": {
    "colab": {
      "name": "data_gathering.ipynb",
      "provenance": [],
      "collapsed_sections": []
    },
    "kernelspec": {
      "name": "python3",
      "display_name": "Python 3"
    },
    "language_info": {
      "name": "python"
    }
  },
  "cells": [
    {
      "cell_type": "markdown",
      "metadata": {
        "id": "TZ3uiLmXeVdw"
      },
      "source": [
        "## INTRO and whats going on\n",
        "\n",
        "We need to:\n",
        "* Consolidate/simpify ingredients (`ingr_map.pkl`)\n",
        "* Filter out recipes that don't contain at least one of our predeterimined ingredients\n",
        "* Simplify user recipe ratings\n",
        "\n",
        "\n",
        "### Steps\n",
        "\n",
        "Download the Food.com Recipes and Interactions dataset from [Kaggle](https://www.kaggle.com/shuyangli94/food-com-recipes-and-user-interactions) and save the zip file as `raw_interactions.zip` in this directory."
      ]
    },
    {
      "cell_type": "code",
      "metadata": {
        "colab": {
          "base_uri": "https://localhost:8080/"
        },
        "id": "L-ZepKMyeJy4",
        "outputId": "0acd20c6-ca01-4739-a8fe-0417528e36b8"
      },
      "source": [
        "# Extract the zip file\n",
        "!unzip raw_interactions.zip -d kaggle_food/\n",
        "!mkdir dataset"
      ],
      "execution_count": 9,
      "outputs": [
        {
          "output_type": "stream",
          "text": [
            "Archive:  raw_interactions.zip\n",
            "  inflating: dataset/PP_recipes.csv  \n",
            "  inflating: dataset/PP_users.csv    \n",
            "  inflating: dataset/RAW_interactions.csv  \n",
            "  inflating: dataset/RAW_recipes.csv  \n",
            "  inflating: dataset/ingr_map.pkl    \n",
            "  inflating: dataset/interactions_test.csv  \n",
            "  inflating: dataset/interactions_train.csv  \n",
            "  inflating: dataset/interactions_validation.csv  \n"
          ],
          "name": "stdout"
        }
      ]
    },
    {
      "cell_type": "code",
      "metadata": {
        "id": "DKUjfKNqiDFm"
      },
      "source": [
        "import pandas as pd\n",
        "import ast\n",
        "import matplotlib.pyplot as plt"
      ],
      "execution_count": 31,
      "outputs": []
    },
    {
      "cell_type": "code",
      "metadata": {
        "id": "gRF9wRO3fajt"
      },
      "source": [
        "ingredient_set = {\n",
        "    \"beef\",\n",
        "    \"salmon\",\n",
        "    \"chicken\",\n",
        "    \"broccoli\",\n",
        "    \"cabbage\",\n",
        "    \"carrot\",\n",
        "    \"celery\",\n",
        "    \"corn\",\n",
        "    \"cucumber\",\n",
        "    \"eggplant\",\n",
        "    \"green bean\",\n",
        "    \"bell pepper\",\n",
        "    \"olive\",\n",
        "    \"onion\",\n",
        "    \"potato\",\n",
        "    \"spinach\",\n",
        "    \"tomato\",\n",
        "    \"lettuce\",\n",
        "    \"apple\",\n",
        "    \"avocado\",\n",
        "    \"banana\",\n",
        "    \"lemon\",\n",
        "    \"bread\",\n",
        "    \"cheese\",\n",
        "    \"mushroom\",\n",
        "    \"egg\",\n",
        "    \"pasta\",\n",
        "    \"rice\",\n",
        "}"
      ],
      "execution_count": 2,
      "outputs": []
    },
    {
      "cell_type": "markdown",
      "metadata": {
        "id": "_wz5rpfshz8C"
      },
      "source": [
        "## Finding ingredient mapping\n"
      ]
    },
    {
      "cell_type": "code",
      "metadata": {
        "colab": {
          "base_uri": "https://localhost:8080/",
          "height": 393
        },
        "id": "L2a2i46qgyIc",
        "outputId": "c660d76c-e978-4593-a915-00edd784ecf0"
      },
      "source": [
        "ingr_map = pd.read_pickle(\"kaggle_food/ingr_map.pkl\")\n",
        "ingr_map.head(10)"
      ],
      "execution_count": 3,
      "outputs": [
        {
          "output_type": "execute_result",
          "data": {
            "text/html": [
              "<div>\n",
              "<style scoped>\n",
              "    .dataframe tbody tr th:only-of-type {\n",
              "        vertical-align: middle;\n",
              "    }\n",
              "\n",
              "    .dataframe tbody tr th {\n",
              "        vertical-align: top;\n",
              "    }\n",
              "\n",
              "    .dataframe thead th {\n",
              "        text-align: right;\n",
              "    }\n",
              "</style>\n",
              "<table border=\"1\" class=\"dataframe\">\n",
              "  <thead>\n",
              "    <tr style=\"text-align: right;\">\n",
              "      <th></th>\n",
              "      <th>raw_ingr</th>\n",
              "      <th>raw_words</th>\n",
              "      <th>processed</th>\n",
              "      <th>len_proc</th>\n",
              "      <th>replaced</th>\n",
              "      <th>count</th>\n",
              "      <th>id</th>\n",
              "    </tr>\n",
              "  </thead>\n",
              "  <tbody>\n",
              "    <tr>\n",
              "      <th>0</th>\n",
              "      <td>medium heads bibb or red leaf lettuce, washed,...</td>\n",
              "      <td>13</td>\n",
              "      <td>medium heads bibb or red leaf lettuce, washed,...</td>\n",
              "      <td>73</td>\n",
              "      <td>lettuce</td>\n",
              "      <td>4507</td>\n",
              "      <td>4308</td>\n",
              "    </tr>\n",
              "    <tr>\n",
              "      <th>1</th>\n",
              "      <td>mixed baby lettuces and spring greens</td>\n",
              "      <td>6</td>\n",
              "      <td>mixed baby lettuces and spring green</td>\n",
              "      <td>36</td>\n",
              "      <td>lettuce</td>\n",
              "      <td>4507</td>\n",
              "      <td>4308</td>\n",
              "    </tr>\n",
              "    <tr>\n",
              "      <th>2</th>\n",
              "      <td>romaine lettuce leaf</td>\n",
              "      <td>3</td>\n",
              "      <td>romaine lettuce leaf</td>\n",
              "      <td>20</td>\n",
              "      <td>lettuce</td>\n",
              "      <td>4507</td>\n",
              "      <td>4308</td>\n",
              "    </tr>\n",
              "    <tr>\n",
              "      <th>3</th>\n",
              "      <td>iceberg lettuce leaf</td>\n",
              "      <td>3</td>\n",
              "      <td>iceberg lettuce leaf</td>\n",
              "      <td>20</td>\n",
              "      <td>lettuce</td>\n",
              "      <td>4507</td>\n",
              "      <td>4308</td>\n",
              "    </tr>\n",
              "    <tr>\n",
              "      <th>4</th>\n",
              "      <td>red romaine lettuce</td>\n",
              "      <td>3</td>\n",
              "      <td>red romaine lettuce</td>\n",
              "      <td>19</td>\n",
              "      <td>lettuce</td>\n",
              "      <td>4507</td>\n",
              "      <td>4308</td>\n",
              "    </tr>\n",
              "    <tr>\n",
              "      <th>5</th>\n",
              "      <td>head romaine lettuce</td>\n",
              "      <td>3</td>\n",
              "      <td>head romaine lettuce</td>\n",
              "      <td>20</td>\n",
              "      <td>lettuce</td>\n",
              "      <td>4507</td>\n",
              "      <td>4308</td>\n",
              "    </tr>\n",
              "    <tr>\n",
              "      <th>6</th>\n",
              "      <td>curly endive lettuce</td>\n",
              "      <td>3</td>\n",
              "      <td>curly endive lettuce</td>\n",
              "      <td>20</td>\n",
              "      <td>lettuce</td>\n",
              "      <td>4507</td>\n",
              "      <td>4308</td>\n",
              "    </tr>\n",
              "    <tr>\n",
              "      <th>7</th>\n",
              "      <td>romaine lettuce hearts</td>\n",
              "      <td>3</td>\n",
              "      <td>romaine lettuce heart</td>\n",
              "      <td>21</td>\n",
              "      <td>lettuce</td>\n",
              "      <td>4507</td>\n",
              "      <td>4308</td>\n",
              "    </tr>\n",
              "    <tr>\n",
              "      <th>8</th>\n",
              "      <td>baby leaf lettuce</td>\n",
              "      <td>3</td>\n",
              "      <td>baby leaf lettuce</td>\n",
              "      <td>17</td>\n",
              "      <td>lettuce</td>\n",
              "      <td>4507</td>\n",
              "      <td>4308</td>\n",
              "    </tr>\n",
              "    <tr>\n",
              "      <th>9</th>\n",
              "      <td>head of lettuce</td>\n",
              "      <td>3</td>\n",
              "      <td>head of lettuce</td>\n",
              "      <td>15</td>\n",
              "      <td>lettuce</td>\n",
              "      <td>4507</td>\n",
              "      <td>4308</td>\n",
              "    </tr>\n",
              "  </tbody>\n",
              "</table>\n",
              "</div>"
            ],
            "text/plain": [
              "                                            raw_ingr  raw_words  ... count    id\n",
              "0  medium heads bibb or red leaf lettuce, washed,...         13  ...  4507  4308\n",
              "1              mixed baby lettuces and spring greens          6  ...  4507  4308\n",
              "2                               romaine lettuce leaf          3  ...  4507  4308\n",
              "3                               iceberg lettuce leaf          3  ...  4507  4308\n",
              "4                                red romaine lettuce          3  ...  4507  4308\n",
              "5                               head romaine lettuce          3  ...  4507  4308\n",
              "6                               curly endive lettuce          3  ...  4507  4308\n",
              "7                             romaine lettuce hearts          3  ...  4507  4308\n",
              "8                                  baby leaf lettuce          3  ...  4507  4308\n",
              "9                                    head of lettuce          3  ...  4507  4308\n",
              "\n",
              "[10 rows x 7 columns]"
            ]
          },
          "metadata": {
            "tags": []
          },
          "execution_count": 3
        }
      ]
    },
    {
      "cell_type": "markdown",
      "metadata": {
        "id": "5o-hoEOIiWxj"
      },
      "source": [
        "We need to consolodate some of the `ingr_map` ingredients to fit within our `ingredient_set`. Here's what we need:\n",
        "* Beef matches only to beef\n",
        "* Bell peppers should match all colors\n",
        "* The many types of pasta should all just be \"pasta\"\n"
      ]
    },
    {
      "cell_type": "markdown",
      "metadata": {
        "id": "5OD3Vizw1FkU"
      },
      "source": [
        "**Bell Peppers**"
      ]
    },
    {
      "cell_type": "code",
      "metadata": {
        "colab": {
          "base_uri": "https://localhost:8080/",
          "height": 529
        },
        "id": "aQy3_739ymDl",
        "outputId": "7368c935-2702-4d4b-a43f-d912288297dc"
      },
      "source": [
        "ingr_map.loc[ingr_map[\"replaced\"].str.match(\".*bell pepper\")].head(10)"
      ],
      "execution_count": 4,
      "outputs": [
        {
          "output_type": "execute_result",
          "data": {
            "text/html": [
              "<div>\n",
              "<style scoped>\n",
              "    .dataframe tbody tr th:only-of-type {\n",
              "        vertical-align: middle;\n",
              "    }\n",
              "\n",
              "    .dataframe tbody tr th {\n",
              "        vertical-align: top;\n",
              "    }\n",
              "\n",
              "    .dataframe thead th {\n",
              "        text-align: right;\n",
              "    }\n",
              "</style>\n",
              "<table border=\"1\" class=\"dataframe\">\n",
              "  <thead>\n",
              "    <tr style=\"text-align: right;\">\n",
              "      <th></th>\n",
              "      <th>raw_ingr</th>\n",
              "      <th>raw_words</th>\n",
              "      <th>processed</th>\n",
              "      <th>len_proc</th>\n",
              "      <th>replaced</th>\n",
              "      <th>count</th>\n",
              "      <th>id</th>\n",
              "    </tr>\n",
              "  </thead>\n",
              "  <tbody>\n",
              "    <tr>\n",
              "      <th>933</th>\n",
              "      <td>frozen bell peppers onions and celery</td>\n",
              "      <td>6</td>\n",
              "      <td>frozen bell peppers onions and celery</td>\n",
              "      <td>37</td>\n",
              "      <td>frozen bell peppers onions and celery</td>\n",
              "      <td>2</td>\n",
              "      <td>2958</td>\n",
              "    </tr>\n",
              "    <tr>\n",
              "      <th>2172</th>\n",
              "      <td>campbell southwest-style pepper jack soup</td>\n",
              "      <td>5</td>\n",
              "      <td>campbell pepper jack soup</td>\n",
              "      <td>25</td>\n",
              "      <td>campbell pepper jack soup</td>\n",
              "      <td>9</td>\n",
              "      <td>933</td>\n",
              "    </tr>\n",
              "    <tr>\n",
              "      <th>2367</th>\n",
              "      <td>raw red bell pepper</td>\n",
              "      <td>4</td>\n",
              "      <td>raw red bell pepper</td>\n",
              "      <td>19</td>\n",
              "      <td>raw red bell pepper</td>\n",
              "      <td>2</td>\n",
              "      <td>5888</td>\n",
              "    </tr>\n",
              "    <tr>\n",
              "      <th>2418</th>\n",
              "      <td>green bell pepper flakes</td>\n",
              "      <td>4</td>\n",
              "      <td>green bell pepper flake</td>\n",
              "      <td>23</td>\n",
              "      <td>green bell pepper flake</td>\n",
              "      <td>2</td>\n",
              "      <td>3400</td>\n",
              "    </tr>\n",
              "    <tr>\n",
              "      <th>2894</th>\n",
              "      <td>orange sweet bell pepper</td>\n",
              "      <td>4</td>\n",
              "      <td>orange sweet bell pepper</td>\n",
              "      <td>24</td>\n",
              "      <td>orange sweet bell pepper</td>\n",
              "      <td>9</td>\n",
              "      <td>5084</td>\n",
              "    </tr>\n",
              "    <tr>\n",
              "      <th>3269</th>\n",
              "      <td>red sweet bell peppers</td>\n",
              "      <td>4</td>\n",
              "      <td>red sweet bell pepper</td>\n",
              "      <td>21</td>\n",
              "      <td>red sweet bell pepper</td>\n",
              "      <td>83</td>\n",
              "      <td>6002</td>\n",
              "    </tr>\n",
              "    <tr>\n",
              "      <th>3270</th>\n",
              "      <td>red sweet bell pepper</td>\n",
              "      <td>4</td>\n",
              "      <td>red sweet bell pepper</td>\n",
              "      <td>21</td>\n",
              "      <td>red sweet bell pepper</td>\n",
              "      <td>83</td>\n",
              "      <td>6002</td>\n",
              "    </tr>\n",
              "    <tr>\n",
              "      <th>3320</th>\n",
              "      <td>roasted bell pepper hummus</td>\n",
              "      <td>4</td>\n",
              "      <td>roasted bell pepper hummu</td>\n",
              "      <td>25</td>\n",
              "      <td>roasted bell pepper hummu</td>\n",
              "      <td>2</td>\n",
              "      <td>6109</td>\n",
              "    </tr>\n",
              "    <tr>\n",
              "      <th>3434</th>\n",
              "      <td>yellow sweet bell pepper</td>\n",
              "      <td>4</td>\n",
              "      <td>yellow sweet bell pepper</td>\n",
              "      <td>24</td>\n",
              "      <td>yellow sweet bell pepper</td>\n",
              "      <td>7</td>\n",
              "      <td>7988</td>\n",
              "    </tr>\n",
              "    <tr>\n",
              "      <th>4118</th>\n",
              "      <td>sweet bell peppers</td>\n",
              "      <td>3</td>\n",
              "      <td>sweet bell pepper</td>\n",
              "      <td>17</td>\n",
              "      <td>sweet bell pepper</td>\n",
              "      <td>37</td>\n",
              "      <td>6959</td>\n",
              "    </tr>\n",
              "  </tbody>\n",
              "</table>\n",
              "</div>"
            ],
            "text/plain": [
              "                                       raw_ingr  raw_words  ... count    id\n",
              "933       frozen bell peppers onions and celery          6  ...     2  2958\n",
              "2172  campbell southwest-style pepper jack soup          5  ...     9   933\n",
              "2367                        raw red bell pepper          4  ...     2  5888\n",
              "2418                   green bell pepper flakes          4  ...     2  3400\n",
              "2894                   orange sweet bell pepper          4  ...     9  5084\n",
              "3269                     red sweet bell peppers          4  ...    83  6002\n",
              "3270                      red sweet bell pepper          4  ...    83  6002\n",
              "3320                 roasted bell pepper hummus          4  ...     2  6109\n",
              "3434                   yellow sweet bell pepper          4  ...     7  7988\n",
              "4118                         sweet bell peppers          3  ...    37  6959\n",
              "\n",
              "[10 rows x 7 columns]"
            ]
          },
          "metadata": {
            "tags": []
          },
          "execution_count": 4
        }
      ]
    },
    {
      "cell_type": "code",
      "metadata": {
        "id": "AYUy2Yw6iwxq"
      },
      "source": [
        "ingr_map.loc[ingr_map[\"replaced\"].str.match(\".*bell pepper\") & ~ingr_map[\"replaced\"].str.contains(\"celery|soup|flake|hummu\"), \"replaced\"] = \"bell pepper\""
      ],
      "execution_count": 5,
      "outputs": []
    },
    {
      "cell_type": "markdown",
      "metadata": {
        "id": "sAeBK8Zeh3dk"
      },
      "source": [
        "**Pasta**"
      ]
    },
    {
      "cell_type": "code",
      "metadata": {
        "colab": {
          "base_uri": "https://localhost:8080/",
          "height": 546
        },
        "id": "bUZ4FUSyyqxO",
        "outputId": "c62bc6b5-cc12-438b-93cf-fd253e4c225c"
      },
      "source": [
        "types_of_pasta = [\"pasta\", \"spaghetti\", \"rotini\", \"fettuccine\", \"angel hair\", \n",
        "                  \"linguine\", \"fusilli\", \"elbows\", \"farfalle\", \"penne\",\n",
        "                  \"rotelli\", \"rigatoni\", \"ziti\", \"conchiglie\"]\n",
        "ingr_map.loc[ingr_map[\"replaced\"].str.contains(\"|\".join(types_of_pasta))].head(10)"
      ],
      "execution_count": 6,
      "outputs": [
        {
          "output_type": "execute_result",
          "data": {
            "text/html": [
              "<div>\n",
              "<style scoped>\n",
              "    .dataframe tbody tr th:only-of-type {\n",
              "        vertical-align: middle;\n",
              "    }\n",
              "\n",
              "    .dataframe tbody tr th {\n",
              "        vertical-align: top;\n",
              "    }\n",
              "\n",
              "    .dataframe thead th {\n",
              "        text-align: right;\n",
              "    }\n",
              "</style>\n",
              "<table border=\"1\" class=\"dataframe\">\n",
              "  <thead>\n",
              "    <tr style=\"text-align: right;\">\n",
              "      <th></th>\n",
              "      <th>raw_ingr</th>\n",
              "      <th>raw_words</th>\n",
              "      <th>processed</th>\n",
              "      <th>len_proc</th>\n",
              "      <th>replaced</th>\n",
              "      <th>count</th>\n",
              "      <th>id</th>\n",
              "    </tr>\n",
              "  </thead>\n",
              "  <tbody>\n",
              "    <tr>\n",
              "      <th>172</th>\n",
              "      <td>prego extra chunky mushroom &amp; diced tomato spa...</td>\n",
              "      <td>9</td>\n",
              "      <td>prego chunky mushroom &amp; diced tomato spaghetti...</td>\n",
              "      <td>52</td>\n",
              "      <td>pasta sauce</td>\n",
              "      <td>441</td>\n",
              "      <td>5205</td>\n",
              "    </tr>\n",
              "    <tr>\n",
              "      <th>173</th>\n",
              "      <td>prego pasta sauce with tomato basil and garlic</td>\n",
              "      <td>8</td>\n",
              "      <td>prego pasta sauce</td>\n",
              "      <td>17</td>\n",
              "      <td>pasta sauce</td>\n",
              "      <td>441</td>\n",
              "      <td>5205</td>\n",
              "    </tr>\n",
              "    <tr>\n",
              "      <th>174</th>\n",
              "      <td>low fat prepared pasta sauce</td>\n",
              "      <td>5</td>\n",
              "      <td>pasta sauce</td>\n",
              "      <td>11</td>\n",
              "      <td>pasta sauce</td>\n",
              "      <td>441</td>\n",
              "      <td>5205</td>\n",
              "    </tr>\n",
              "    <tr>\n",
              "      <th>175</th>\n",
              "      <td>prego ricotta and parmesan sauce</td>\n",
              "      <td>5</td>\n",
              "      <td>prego ricotta and parmesan sauce</td>\n",
              "      <td>32</td>\n",
              "      <td>pasta sauce</td>\n",
              "      <td>441</td>\n",
              "      <td>5205</td>\n",
              "    </tr>\n",
              "    <tr>\n",
              "      <th>176</th>\n",
              "      <td>pasta sauce with meat</td>\n",
              "      <td>4</td>\n",
              "      <td>pasta sauce</td>\n",
              "      <td>11</td>\n",
              "      <td>pasta sauce</td>\n",
              "      <td>441</td>\n",
              "      <td>5205</td>\n",
              "    </tr>\n",
              "    <tr>\n",
              "      <th>177</th>\n",
              "      <td>pasta sauce with vegetables</td>\n",
              "      <td>4</td>\n",
              "      <td>pasta sauce</td>\n",
              "      <td>11</td>\n",
              "      <td>pasta sauce</td>\n",
              "      <td>441</td>\n",
              "      <td>5205</td>\n",
              "    </tr>\n",
              "    <tr>\n",
              "      <th>178</th>\n",
              "      <td>fat free pasta sauce</td>\n",
              "      <td>4</td>\n",
              "      <td>pasta sauce</td>\n",
              "      <td>11</td>\n",
              "      <td>pasta sauce</td>\n",
              "      <td>441</td>\n",
              "      <td>5205</td>\n",
              "    </tr>\n",
              "    <tr>\n",
              "      <th>179</th>\n",
              "      <td>pasta sauce with mushrooms</td>\n",
              "      <td>4</td>\n",
              "      <td>pasta sauce</td>\n",
              "      <td>11</td>\n",
              "      <td>pasta sauce</td>\n",
              "      <td>441</td>\n",
              "      <td>5205</td>\n",
              "    </tr>\n",
              "    <tr>\n",
              "      <th>180</th>\n",
              "      <td>low-carb pasta sauce</td>\n",
              "      <td>3</td>\n",
              "      <td>pasta sauce</td>\n",
              "      <td>11</td>\n",
              "      <td>pasta sauce</td>\n",
              "      <td>441</td>\n",
              "      <td>5205</td>\n",
              "    </tr>\n",
              "    <tr>\n",
              "      <th>181</th>\n",
              "      <td>prego spaghetti sauce</td>\n",
              "      <td>3</td>\n",
              "      <td>prego spaghetti sauce</td>\n",
              "      <td>21</td>\n",
              "      <td>pasta sauce</td>\n",
              "      <td>441</td>\n",
              "      <td>5205</td>\n",
              "    </tr>\n",
              "  </tbody>\n",
              "</table>\n",
              "</div>"
            ],
            "text/plain": [
              "                                              raw_ingr  raw_words  ... count    id\n",
              "172  prego extra chunky mushroom & diced tomato spa...          9  ...   441  5205\n",
              "173     prego pasta sauce with tomato basil and garlic          8  ...   441  5205\n",
              "174                       low fat prepared pasta sauce          5  ...   441  5205\n",
              "175                   prego ricotta and parmesan sauce          5  ...   441  5205\n",
              "176                              pasta sauce with meat          4  ...   441  5205\n",
              "177                        pasta sauce with vegetables          4  ...   441  5205\n",
              "178                               fat free pasta sauce          4  ...   441  5205\n",
              "179                         pasta sauce with mushrooms          4  ...   441  5205\n",
              "180                               low-carb pasta sauce          3  ...   441  5205\n",
              "181                              prego spaghetti sauce          3  ...   441  5205\n",
              "\n",
              "[10 rows x 7 columns]"
            ]
          },
          "metadata": {
            "tags": []
          },
          "execution_count": 6
        }
      ]
    },
    {
      "cell_type": "code",
      "metadata": {
        "id": "OwFyj8Zx2qix"
      },
      "source": [
        "ingr_map.loc[ingr_map[\"replaced\"].str.contains(\"|\".join(types_of_pasta)) & ~ingr_map[\"replaced\"].str.contains(\"sauce|salad|soup|dough|squash|spinach\"), \"replaced\"] = \"pasta\""
      ],
      "execution_count": 7,
      "outputs": []
    },
    {
      "cell_type": "code",
      "metadata": {
        "colab": {
          "base_uri": "https://localhost:8080/"
        },
        "id": "gdQYJNL15S25",
        "outputId": "53f45be2-864b-47fb-bf29-ac639a236312"
      },
      "source": [
        "ingr_map.loc[ingr_map[\"replaced\"] == \"pasta\", \"count\"].sum()"
      ],
      "execution_count": 8,
      "outputs": [
        {
          "output_type": "execute_result",
          "data": {
            "text/plain": [
              "6360"
            ]
          },
          "metadata": {
            "tags": []
          },
          "execution_count": 8
        }
      ]
    },
    {
      "cell_type": "markdown",
      "metadata": {
        "id": "5zj49sjZ6Ipk"
      },
      "source": [
        "Now lets see our final ingredients."
      ]
    },
    {
      "cell_type": "code",
      "metadata": {
        "colab": {
          "base_uri": "https://localhost:8080/",
          "height": 453
        },
        "id": "5OYiHxFI5etz",
        "outputId": "e7f72f19-674b-438f-f0d2-967c1ab3c2b6"
      },
      "source": [
        "ingr_map.loc[ingr_map[\"replaced\"].map(lambda x: x in ingredient_set)]"
      ],
      "execution_count": 9,
      "outputs": [
        {
          "output_type": "execute_result",
          "data": {
            "text/html": [
              "<div>\n",
              "<style scoped>\n",
              "    .dataframe tbody tr th:only-of-type {\n",
              "        vertical-align: middle;\n",
              "    }\n",
              "\n",
              "    .dataframe tbody tr th {\n",
              "        vertical-align: top;\n",
              "    }\n",
              "\n",
              "    .dataframe thead th {\n",
              "        text-align: right;\n",
              "    }\n",
              "</style>\n",
              "<table border=\"1\" class=\"dataframe\">\n",
              "  <thead>\n",
              "    <tr style=\"text-align: right;\">\n",
              "      <th></th>\n",
              "      <th>raw_ingr</th>\n",
              "      <th>raw_words</th>\n",
              "      <th>processed</th>\n",
              "      <th>len_proc</th>\n",
              "      <th>replaced</th>\n",
              "      <th>count</th>\n",
              "      <th>id</th>\n",
              "    </tr>\n",
              "  </thead>\n",
              "  <tbody>\n",
              "    <tr>\n",
              "      <th>0</th>\n",
              "      <td>medium heads bibb or red leaf lettuce, washed,...</td>\n",
              "      <td>13</td>\n",
              "      <td>medium heads bibb or red leaf lettuce, washed,...</td>\n",
              "      <td>73</td>\n",
              "      <td>lettuce</td>\n",
              "      <td>4507</td>\n",
              "      <td>4308</td>\n",
              "    </tr>\n",
              "    <tr>\n",
              "      <th>1</th>\n",
              "      <td>mixed baby lettuces and spring greens</td>\n",
              "      <td>6</td>\n",
              "      <td>mixed baby lettuces and spring green</td>\n",
              "      <td>36</td>\n",
              "      <td>lettuce</td>\n",
              "      <td>4507</td>\n",
              "      <td>4308</td>\n",
              "    </tr>\n",
              "    <tr>\n",
              "      <th>2</th>\n",
              "      <td>romaine lettuce leaf</td>\n",
              "      <td>3</td>\n",
              "      <td>romaine lettuce leaf</td>\n",
              "      <td>20</td>\n",
              "      <td>lettuce</td>\n",
              "      <td>4507</td>\n",
              "      <td>4308</td>\n",
              "    </tr>\n",
              "    <tr>\n",
              "      <th>3</th>\n",
              "      <td>iceberg lettuce leaf</td>\n",
              "      <td>3</td>\n",
              "      <td>iceberg lettuce leaf</td>\n",
              "      <td>20</td>\n",
              "      <td>lettuce</td>\n",
              "      <td>4507</td>\n",
              "      <td>4308</td>\n",
              "    </tr>\n",
              "    <tr>\n",
              "      <th>4</th>\n",
              "      <td>red romaine lettuce</td>\n",
              "      <td>3</td>\n",
              "      <td>red romaine lettuce</td>\n",
              "      <td>19</td>\n",
              "      <td>lettuce</td>\n",
              "      <td>4507</td>\n",
              "      <td>4308</td>\n",
              "    </tr>\n",
              "    <tr>\n",
              "      <th>...</th>\n",
              "      <td>...</td>\n",
              "      <td>...</td>\n",
              "      <td>...</td>\n",
              "      <td>...</td>\n",
              "      <td>...</td>\n",
              "      <td>...</td>\n",
              "      <td>...</td>\n",
              "    </tr>\n",
              "    <tr>\n",
              "      <th>11170</th>\n",
              "      <td>cabbage</td>\n",
              "      <td>1</td>\n",
              "      <td>cabbage</td>\n",
              "      <td>7</td>\n",
              "      <td>cabbage</td>\n",
              "      <td>1593</td>\n",
              "      <td>893</td>\n",
              "    </tr>\n",
              "    <tr>\n",
              "      <th>11220</th>\n",
              "      <td>olive</td>\n",
              "      <td>1</td>\n",
              "      <td>olive</td>\n",
              "      <td>5</td>\n",
              "      <td>olive</td>\n",
              "      <td>301</td>\n",
              "      <td>5003</td>\n",
              "    </tr>\n",
              "    <tr>\n",
              "      <th>11368</th>\n",
              "      <td>spaghettini</td>\n",
              "      <td>1</td>\n",
              "      <td>spaghettini</td>\n",
              "      <td>11</td>\n",
              "      <td>pasta</td>\n",
              "      <td>35</td>\n",
              "      <td>6714</td>\n",
              "    </tr>\n",
              "    <tr>\n",
              "      <th>11474</th>\n",
              "      <td>fusilli</td>\n",
              "      <td>1</td>\n",
              "      <td>fusilli</td>\n",
              "      <td>7</td>\n",
              "      <td>pasta</td>\n",
              "      <td>121</td>\n",
              "      <td>3167</td>\n",
              "    </tr>\n",
              "    <tr>\n",
              "      <th>11609</th>\n",
              "      <td>fettuccine</td>\n",
              "      <td>1</td>\n",
              "      <td>fettuccine</td>\n",
              "      <td>10</td>\n",
              "      <td>pasta</td>\n",
              "      <td>306</td>\n",
              "      <td>2592</td>\n",
              "    </tr>\n",
              "  </tbody>\n",
              "</table>\n",
              "<p>211 rows × 7 columns</p>\n",
              "</div>"
            ],
            "text/plain": [
              "                                                raw_ingr  ...    id\n",
              "0      medium heads bibb or red leaf lettuce, washed,...  ...  4308\n",
              "1                  mixed baby lettuces and spring greens  ...  4308\n",
              "2                                   romaine lettuce leaf  ...  4308\n",
              "3                                   iceberg lettuce leaf  ...  4308\n",
              "4                                    red romaine lettuce  ...  4308\n",
              "...                                                  ...  ...   ...\n",
              "11170                                            cabbage  ...   893\n",
              "11220                                              olive  ...  5003\n",
              "11368                                        spaghettini  ...  6714\n",
              "11474                                            fusilli  ...  3167\n",
              "11609                                         fettuccine  ...  2592\n",
              "\n",
              "[211 rows x 7 columns]"
            ]
          },
          "metadata": {
            "tags": []
          },
          "execution_count": 9
        }
      ]
    },
    {
      "cell_type": "code",
      "metadata": {
        "colab": {
          "base_uri": "https://localhost:8080/"
        },
        "id": "AfZglMDL6RZT",
        "outputId": "676a6594-8ade-4a6d-9ab1-7a7706e3ed85"
      },
      "source": [
        "required_ingredient_ids_set = set(ingr_map.loc[ingr_map[\"replaced\"].map(lambda x: x in ingredient_set), \"id\"].unique())\n",
        "len(required_ingredient_ids_set)"
      ],
      "execution_count": 10,
      "outputs": [
        {
          "output_type": "execute_result",
          "data": {
            "text/plain": [
              "89"
            ]
          },
          "metadata": {
            "tags": []
          },
          "execution_count": 10
        }
      ]
    },
    {
      "cell_type": "markdown",
      "metadata": {
        "id": "DZRW5IMI-oXn"
      },
      "source": [
        "## Filter the recipes"
      ]
    },
    {
      "cell_type": "code",
      "metadata": {
        "id": "BPl2ijddMtmT"
      },
      "source": [
        "recipes = pd.read_csv(\"kaggle_food/RAW_recipes.csv\")\n",
        "recipes.rename(columns={\"id\": \"recipe_id\"}, inplace=True)\n",
        "recipes[\"ingredients\"] = recipes[\"ingredients\"].apply(ast.literal_eval)"
      ],
      "execution_count": 88,
      "outputs": []
    },
    {
      "cell_type": "code",
      "metadata": {
        "id": "3yvFd0CYWE2T"
      },
      "source": [
        "ingr_dict = ingr_map.set_index(\"raw_ingr\")[\"id\"].to_dict()"
      ],
      "execution_count": 89,
      "outputs": []
    },
    {
      "cell_type": "code",
      "metadata": {
        "id": "faFgsUPTQTna"
      },
      "source": [
        "recipes[\"ingredient_ids\"] = (\n",
        "    recipes[\"ingredients\"].apply(\n",
        "        lambda l: [ingr_dict[i] for i in l\n",
        "        if i in ingr_dict]\n",
        "    )\n",
        ")"
      ],
      "execution_count": 90,
      "outputs": []
    },
    {
      "cell_type": "code",
      "metadata": {
        "colab": {
          "base_uri": "https://localhost:8080/",
          "height": 1000
        },
        "id": "J5w1o7qoQeIo",
        "outputId": "02d26893-8435-4251-e32e-44a78b4d5580"
      },
      "source": [
        "recipes.head(10)"
      ],
      "execution_count": 91,
      "outputs": [
        {
          "output_type": "execute_result",
          "data": {
            "text/html": [
              "<div>\n",
              "<style scoped>\n",
              "    .dataframe tbody tr th:only-of-type {\n",
              "        vertical-align: middle;\n",
              "    }\n",
              "\n",
              "    .dataframe tbody tr th {\n",
              "        vertical-align: top;\n",
              "    }\n",
              "\n",
              "    .dataframe thead th {\n",
              "        text-align: right;\n",
              "    }\n",
              "</style>\n",
              "<table border=\"1\" class=\"dataframe\">\n",
              "  <thead>\n",
              "    <tr style=\"text-align: right;\">\n",
              "      <th></th>\n",
              "      <th>name</th>\n",
              "      <th>recipe_id</th>\n",
              "      <th>minutes</th>\n",
              "      <th>contributor_id</th>\n",
              "      <th>submitted</th>\n",
              "      <th>tags</th>\n",
              "      <th>nutrition</th>\n",
              "      <th>n_steps</th>\n",
              "      <th>steps</th>\n",
              "      <th>description</th>\n",
              "      <th>ingredients</th>\n",
              "      <th>n_ingredients</th>\n",
              "      <th>ingredient_ids</th>\n",
              "    </tr>\n",
              "  </thead>\n",
              "  <tbody>\n",
              "    <tr>\n",
              "      <th>0</th>\n",
              "      <td>arriba   baked winter squash mexican style</td>\n",
              "      <td>137739</td>\n",
              "      <td>55</td>\n",
              "      <td>47892</td>\n",
              "      <td>2005-09-16</td>\n",
              "      <td>['60-minutes-or-less', 'time-to-make', 'course...</td>\n",
              "      <td>[51.5, 0.0, 13.0, 0.0, 2.0, 0.0, 4.0]</td>\n",
              "      <td>11</td>\n",
              "      <td>['make a choice and proceed with recipe', 'dep...</td>\n",
              "      <td>autumn is my favorite time of year to cook! th...</td>\n",
              "      <td>[winter squash, mexican seasoning, mixed spice...</td>\n",
              "      <td>7</td>\n",
              "      <td>[7933, 4694, 4795, 3723, 840, 5006, 6270]</td>\n",
              "    </tr>\n",
              "    <tr>\n",
              "      <th>1</th>\n",
              "      <td>a bit different  breakfast pizza</td>\n",
              "      <td>31490</td>\n",
              "      <td>30</td>\n",
              "      <td>26278</td>\n",
              "      <td>2002-06-17</td>\n",
              "      <td>['30-minutes-or-less', 'time-to-make', 'course...</td>\n",
              "      <td>[173.4, 18.0, 0.0, 17.0, 22.0, 35.0, 1.0]</td>\n",
              "      <td>9</td>\n",
              "      <td>['preheat oven to 425 degrees f', 'press dough...</td>\n",
              "      <td>this recipe calls for the crust to be prebaked...</td>\n",
              "      <td>[prepared pizza crust, sausage patty, eggs, mi...</td>\n",
              "      <td>6</td>\n",
              "      <td>[5481, 6324, 2499, 4717, 6276, 1170]</td>\n",
              "    </tr>\n",
              "    <tr>\n",
              "      <th>2</th>\n",
              "      <td>all in the kitchen  chili</td>\n",
              "      <td>112140</td>\n",
              "      <td>130</td>\n",
              "      <td>196586</td>\n",
              "      <td>2005-02-25</td>\n",
              "      <td>['time-to-make', 'course', 'preparation', 'mai...</td>\n",
              "      <td>[269.8, 22.0, 32.0, 48.0, 39.0, 27.0, 5.0]</td>\n",
              "      <td>6</td>\n",
              "      <td>['brown ground beef in large pot', 'add choppe...</td>\n",
              "      <td>this modified version of 'mom's' chili was a h...</td>\n",
              "      <td>[ground beef, yellow onions, diced tomatoes, t...</td>\n",
              "      <td>13</td>\n",
              "      <td>[3484, 7979, 2131, 7229, 7235, 6189, 4062, 765...</td>\n",
              "    </tr>\n",
              "    <tr>\n",
              "      <th>3</th>\n",
              "      <td>alouette  potatoes</td>\n",
              "      <td>59389</td>\n",
              "      <td>45</td>\n",
              "      <td>68585</td>\n",
              "      <td>2003-04-14</td>\n",
              "      <td>['60-minutes-or-less', 'time-to-make', 'course...</td>\n",
              "      <td>[368.1, 17.0, 10.0, 2.0, 14.0, 8.0, 20.0]</td>\n",
              "      <td>11</td>\n",
              "      <td>['place potatoes in a large pot of lightly sal...</td>\n",
              "      <td>this is a super easy, great tasting, make ahea...</td>\n",
              "      <td>[spreadable cheese with garlic and herbs, new ...</td>\n",
              "      <td>11</td>\n",
              "      <td>[1170, 4918, 6426, 5185, 7099, 5006, 6009, 627...</td>\n",
              "    </tr>\n",
              "    <tr>\n",
              "      <th>4</th>\n",
              "      <td>amish  tomato ketchup  for canning</td>\n",
              "      <td>44061</td>\n",
              "      <td>190</td>\n",
              "      <td>41706</td>\n",
              "      <td>2002-10-25</td>\n",
              "      <td>['weeknight', 'time-to-make', 'course', 'main-...</td>\n",
              "      <td>[352.9, 1.0, 337.0, 23.0, 3.0, 0.0, 28.0]</td>\n",
              "      <td>5</td>\n",
              "      <td>['mix all ingredients&amp; boil for 2 1 / 2 hours ...</td>\n",
              "      <td>my dh's amish mother raised him on this recipe...</td>\n",
              "      <td>[tomato juice, apple cider vinegar, sugar, sal...</td>\n",
              "      <td>8</td>\n",
              "      <td>[7227, 155, 6906, 6270, 5319, 1564, 1521, 2430]</td>\n",
              "    </tr>\n",
              "    <tr>\n",
              "      <th>5</th>\n",
              "      <td>apple a day  milk shake</td>\n",
              "      <td>5289</td>\n",
              "      <td>0</td>\n",
              "      <td>1533</td>\n",
              "      <td>1999-12-06</td>\n",
              "      <td>['15-minutes-or-less', 'time-to-make', 'course...</td>\n",
              "      <td>[160.2, 10.0, 55.0, 3.0, 9.0, 20.0, 7.0]</td>\n",
              "      <td>4</td>\n",
              "      <td>['combine ingredients in blender', 'cover and ...</td>\n",
              "      <td>NaN</td>\n",
              "      <td>[milk, vanilla ice cream, frozen apple juice c...</td>\n",
              "      <td>4</td>\n",
              "      <td>[4717, 7474, 2946, 150]</td>\n",
              "    </tr>\n",
              "    <tr>\n",
              "      <th>6</th>\n",
              "      <td>aww  marinated olives</td>\n",
              "      <td>25274</td>\n",
              "      <td>15</td>\n",
              "      <td>21730</td>\n",
              "      <td>2002-04-14</td>\n",
              "      <td>['15-minutes-or-less', 'time-to-make', 'course...</td>\n",
              "      <td>[380.7, 53.0, 7.0, 24.0, 6.0, 24.0, 6.0]</td>\n",
              "      <td>4</td>\n",
              "      <td>['toast the fennel seeds and lightly crush the...</td>\n",
              "      <td>my italian mil was thoroughly impressed by my ...</td>\n",
              "      <td>[fennel seeds, green olives, ripe olives, garl...</td>\n",
              "      <td>9</td>\n",
              "      <td>[2587, 3437, 5002, 3184, 5324, 5068, 5058, 131...</td>\n",
              "    </tr>\n",
              "    <tr>\n",
              "      <th>7</th>\n",
              "      <td>backyard style  barbecued ribs</td>\n",
              "      <td>67888</td>\n",
              "      <td>120</td>\n",
              "      <td>10404</td>\n",
              "      <td>2003-07-30</td>\n",
              "      <td>['weeknight', 'time-to-make', 'course', 'main-...</td>\n",
              "      <td>[1109.5, 83.0, 378.0, 275.0, 96.0, 86.0, 36.0]</td>\n",
              "      <td>10</td>\n",
              "      <td>['in a medium saucepan combine all the ingredi...</td>\n",
              "      <td>this recipe is posted by request and was origi...</td>\n",
              "      <td>[pork spareribs, soy sauce, fresh garlic, fres...</td>\n",
              "      <td>22</td>\n",
              "      <td>[5622, 6696, 2807, 2809, 1329, 2780, 6270, 277...</td>\n",
              "    </tr>\n",
              "    <tr>\n",
              "      <th>8</th>\n",
              "      <td>bananas 4 ice cream  pie</td>\n",
              "      <td>70971</td>\n",
              "      <td>180</td>\n",
              "      <td>102353</td>\n",
              "      <td>2003-09-10</td>\n",
              "      <td>['weeknight', 'time-to-make', 'course', 'main-...</td>\n",
              "      <td>[4270.8, 254.0, 1306.0, 111.0, 127.0, 431.0, 2...</td>\n",
              "      <td>8</td>\n",
              "      <td>['crumble cookies into a 9-inch pie plate , or...</td>\n",
              "      <td>NaN</td>\n",
              "      <td>[chocolate sandwich style cookies, chocolate s...</td>\n",
              "      <td>6</td>\n",
              "      <td>[1397, 1447, 7474, 342, 6858, 7702]</td>\n",
              "    </tr>\n",
              "    <tr>\n",
              "      <th>9</th>\n",
              "      <td>beat this  banana bread</td>\n",
              "      <td>75452</td>\n",
              "      <td>70</td>\n",
              "      <td>15892</td>\n",
              "      <td>2003-11-04</td>\n",
              "      <td>['weeknight', 'time-to-make', 'course', 'main-...</td>\n",
              "      <td>[2669.3, 160.0, 976.0, 107.0, 62.0, 310.0, 138.0]</td>\n",
              "      <td>12</td>\n",
              "      <td>['preheat oven to 350 degrees', 'butter two 9x...</td>\n",
              "      <td>from ann hodgman's</td>\n",
              "      <td>[sugar, unsalted butter, bananas, eggs, fresh ...</td>\n",
              "      <td>9</td>\n",
              "      <td>[6906, 7367, 342, 2499, 2832, 5068, 911, 335, ...</td>\n",
              "    </tr>\n",
              "  </tbody>\n",
              "</table>\n",
              "</div>"
            ],
            "text/plain": [
              "                                         name  ...                                     ingredient_ids\n",
              "0  arriba   baked winter squash mexican style  ...          [7933, 4694, 4795, 3723, 840, 5006, 6270]\n",
              "1            a bit different  breakfast pizza  ...               [5481, 6324, 2499, 4717, 6276, 1170]\n",
              "2                   all in the kitchen  chili  ...  [3484, 7979, 2131, 7229, 7235, 6189, 4062, 765...\n",
              "3                          alouette  potatoes  ...  [1170, 4918, 6426, 5185, 7099, 5006, 6009, 627...\n",
              "4          amish  tomato ketchup  for canning  ...    [7227, 155, 6906, 6270, 5319, 1564, 1521, 2430]\n",
              "5                     apple a day  milk shake  ...                            [4717, 7474, 2946, 150]\n",
              "6                       aww  marinated olives  ...  [2587, 3437, 5002, 3184, 5324, 5068, 5058, 131...\n",
              "7              backyard style  barbecued ribs  ...  [5622, 6696, 2807, 2809, 1329, 2780, 6270, 277...\n",
              "8                    bananas 4 ice cream  pie  ...                [1397, 1447, 7474, 342, 6858, 7702]\n",
              "9                     beat this  banana bread  ...  [6906, 7367, 342, 2499, 2832, 5068, 911, 335, ...\n",
              "\n",
              "[10 rows x 13 columns]"
            ]
          },
          "metadata": {
            "tags": []
          },
          "execution_count": 91
        }
      ]
    },
    {
      "cell_type": "code",
      "metadata": {
        "colab": {
          "base_uri": "https://localhost:8080/"
        },
        "id": "-izZE3F3CwhR",
        "outputId": "3eff184d-042a-48c9-9de2-a0220e0b223d"
      },
      "source": [
        "len(recipes)"
      ],
      "execution_count": 92,
      "outputs": [
        {
          "output_type": "execute_result",
          "data": {
            "text/plain": [
              "231637"
            ]
          },
          "metadata": {
            "tags": []
          },
          "execution_count": 92
        }
      ]
    },
    {
      "cell_type": "code",
      "metadata": {
        "colab": {
          "base_uri": "https://localhost:8080/"
        },
        "id": "s7If2xABDGZc",
        "outputId": "3bbaa9e5-04ea-4624-d7c0-37b8a2ee4d12"
      },
      "source": [
        "recipes = recipes[recipes[\"ingredient_ids\"].apply(lambda l: bool(set(l) & required_ingredient_ids_set))]\n",
        "len(recipes)"
      ],
      "execution_count": 93,
      "outputs": [
        {
          "output_type": "execute_result",
          "data": {
            "text/plain": [
              "133044"
            ]
          },
          "metadata": {
            "tags": []
          },
          "execution_count": 93
        }
      ]
    },
    {
      "cell_type": "code",
      "metadata": {
        "id": "O1i4FzDzvdEB"
      },
      "source": [
        "for col in [\"tags\", \"steps\", \"nutrition\"]:\n",
        "    recipes[col] = recipes[col].apply(ast.literal_eval)"
      ],
      "execution_count": 94,
      "outputs": []
    },
    {
      "cell_type": "markdown",
      "metadata": {
        "id": "cK5CFuK5HH8T"
      },
      "source": [
        "## Interactions"
      ]
    },
    {
      "cell_type": "code",
      "metadata": {
        "colab": {
          "base_uri": "https://localhost:8080/",
          "height": 359
        },
        "id": "ugz1yv2XBXjo",
        "outputId": "200d689f-f504-44ec-e2c8-28ae4f88f91c"
      },
      "source": [
        "interactions_train = pd.read_csv(\"kaggle_food/interactions_train.csv\")\n",
        "interactions_test = pd.read_csv(\"kaggle_food/interactions_test.csv\")\n",
        "interactions_validation = pd.read_csv(\"kaggle_food/interactions_validation.csv\")\n",
        "interactions_train.head(10)"
      ],
      "execution_count": 95,
      "outputs": [
        {
          "output_type": "execute_result",
          "data": {
            "text/html": [
              "<div>\n",
              "<style scoped>\n",
              "    .dataframe tbody tr th:only-of-type {\n",
              "        vertical-align: middle;\n",
              "    }\n",
              "\n",
              "    .dataframe tbody tr th {\n",
              "        vertical-align: top;\n",
              "    }\n",
              "\n",
              "    .dataframe thead th {\n",
              "        text-align: right;\n",
              "    }\n",
              "</style>\n",
              "<table border=\"1\" class=\"dataframe\">\n",
              "  <thead>\n",
              "    <tr style=\"text-align: right;\">\n",
              "      <th></th>\n",
              "      <th>user_id</th>\n",
              "      <th>recipe_id</th>\n",
              "      <th>date</th>\n",
              "      <th>rating</th>\n",
              "      <th>u</th>\n",
              "      <th>i</th>\n",
              "    </tr>\n",
              "  </thead>\n",
              "  <tbody>\n",
              "    <tr>\n",
              "      <th>0</th>\n",
              "      <td>2046</td>\n",
              "      <td>4684</td>\n",
              "      <td>2000-02-25</td>\n",
              "      <td>5.0</td>\n",
              "      <td>22095</td>\n",
              "      <td>44367</td>\n",
              "    </tr>\n",
              "    <tr>\n",
              "      <th>1</th>\n",
              "      <td>2046</td>\n",
              "      <td>517</td>\n",
              "      <td>2000-02-25</td>\n",
              "      <td>5.0</td>\n",
              "      <td>22095</td>\n",
              "      <td>87844</td>\n",
              "    </tr>\n",
              "    <tr>\n",
              "      <th>2</th>\n",
              "      <td>1773</td>\n",
              "      <td>7435</td>\n",
              "      <td>2000-03-13</td>\n",
              "      <td>5.0</td>\n",
              "      <td>24732</td>\n",
              "      <td>138181</td>\n",
              "    </tr>\n",
              "    <tr>\n",
              "      <th>3</th>\n",
              "      <td>1773</td>\n",
              "      <td>278</td>\n",
              "      <td>2000-03-13</td>\n",
              "      <td>4.0</td>\n",
              "      <td>24732</td>\n",
              "      <td>93054</td>\n",
              "    </tr>\n",
              "    <tr>\n",
              "      <th>4</th>\n",
              "      <td>2046</td>\n",
              "      <td>3431</td>\n",
              "      <td>2000-04-07</td>\n",
              "      <td>5.0</td>\n",
              "      <td>22095</td>\n",
              "      <td>101723</td>\n",
              "    </tr>\n",
              "    <tr>\n",
              "      <th>5</th>\n",
              "      <td>2046</td>\n",
              "      <td>13307</td>\n",
              "      <td>2000-05-21</td>\n",
              "      <td>5.0</td>\n",
              "      <td>22095</td>\n",
              "      <td>134551</td>\n",
              "    </tr>\n",
              "    <tr>\n",
              "      <th>6</th>\n",
              "      <td>2312</td>\n",
              "      <td>780</td>\n",
              "      <td>2000-09-12</td>\n",
              "      <td>5.0</td>\n",
              "      <td>1674</td>\n",
              "      <td>127175</td>\n",
              "    </tr>\n",
              "    <tr>\n",
              "      <th>7</th>\n",
              "      <td>2312</td>\n",
              "      <td>51964</td>\n",
              "      <td>2000-09-26</td>\n",
              "      <td>5.0</td>\n",
              "      <td>1674</td>\n",
              "      <td>151793</td>\n",
              "    </tr>\n",
              "    <tr>\n",
              "      <th>8</th>\n",
              "      <td>2312</td>\n",
              "      <td>1232</td>\n",
              "      <td>2000-10-17</td>\n",
              "      <td>4.0</td>\n",
              "      <td>1674</td>\n",
              "      <td>15498</td>\n",
              "    </tr>\n",
              "    <tr>\n",
              "      <th>9</th>\n",
              "      <td>2312</td>\n",
              "      <td>4397</td>\n",
              "      <td>2000-10-17</td>\n",
              "      <td>5.0</td>\n",
              "      <td>1674</td>\n",
              "      <td>14380</td>\n",
              "    </tr>\n",
              "  </tbody>\n",
              "</table>\n",
              "</div>"
            ],
            "text/plain": [
              "   user_id  recipe_id        date  rating      u       i\n",
              "0     2046       4684  2000-02-25     5.0  22095   44367\n",
              "1     2046        517  2000-02-25     5.0  22095   87844\n",
              "2     1773       7435  2000-03-13     5.0  24732  138181\n",
              "3     1773        278  2000-03-13     4.0  24732   93054\n",
              "4     2046       3431  2000-04-07     5.0  22095  101723\n",
              "5     2046      13307  2000-05-21     5.0  22095  134551\n",
              "6     2312        780  2000-09-12     5.0   1674  127175\n",
              "7     2312      51964  2000-09-26     5.0   1674  151793\n",
              "8     2312       1232  2000-10-17     4.0   1674   15498\n",
              "9     2312       4397  2000-10-17     5.0   1674   14380"
            ]
          },
          "metadata": {
            "tags": []
          },
          "execution_count": 95
        }
      ]
    },
    {
      "cell_type": "code",
      "metadata": {
        "id": "j8LxmuyiKamd"
      },
      "source": [
        "# inner merge will help to filter out invalid recipes\n",
        "interactions = pd.concat([\n",
        "    interactions_train.merge(recipes[[\"recipe_id\"]], how='inner', on=\"recipe_id\"),\n",
        "    interactions_test.merge(recipes[[\"recipe_id\"]], how='inner', on=\"recipe_id\"),\n",
        "    interactions_validation.merge(recipes[[\"recipe_id\"]], how='inner', on=\"recipe_id\")\n",
        "]).drop(columns = \"i\")"
      ],
      "execution_count": 98,
      "outputs": []
    },
    {
      "cell_type": "code",
      "metadata": {
        "colab": {
          "base_uri": "https://localhost:8080/"
        },
        "id": "_jOAgaLmK-aa",
        "outputId": "de20755b-c7a9-434a-e23c-9a96577754fc"
      },
      "source": [
        "len(interactions)"
      ],
      "execution_count": 99,
      "outputs": [
        {
          "output_type": "execute_result",
          "data": {
            "text/plain": [
              "420360"
            ]
          },
          "metadata": {
            "tags": []
          },
          "execution_count": 99
        }
      ]
    },
    {
      "cell_type": "markdown",
      "metadata": {
        "id": "aBBeiT1sG5RX"
      },
      "source": [
        "## Serialize the data"
      ]
    },
    {
      "cell_type": "code",
      "metadata": {
        "id": "jYcGahzVGpVp"
      },
      "source": [
        "ingr_map.to_pickle(\"dataset/our_ingr_map.pkl\")\n",
        "recipes.to_pickle(\"dataset/our_recipes.pkl\")\n",
        "interactions.to_pickle(\"dataset/our_interactions.pkl\")"
      ],
      "execution_count": 100,
      "outputs": []
    }
  ]
}
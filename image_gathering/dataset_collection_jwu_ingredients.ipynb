{
  "nbformat": 4,
  "nbformat_minor": 0,
  "metadata": {
    "colab": {
      "name": "dataset_collection_jwu-ingredients.ipynb",
      "provenance": [],
      "collapsed_sections": [],
      "toc_visible": true
    },
    "kernelspec": {
      "name": "python3",
      "display_name": "Python 3"
    },
    "language_info": {
      "name": "python"
    }
  },
  "cells": [
    {
      "cell_type": "markdown",
      "metadata": {
        "id": "FodEsitkKkeH"
      },
      "source": [
        "**Dataset Collection**\n",
        "\n",
        "Collecting datasets of ~300 images for:\n",
        "\n",
        "*   eggplant\n",
        "*   olives\n",
        "*   green beans\n",
        "*   bell peppers\n",
        "*   onions\n",
        "*   potatoes\n",
        "*   spinach\n",
        "*   tomatoes\n",
        "*   lettuce\n",
        "\n",
        "using Bing Image Search API"
      ]
    },
    {
      "cell_type": "code",
      "metadata": {
        "id": "cM-7K7nitvIj"
      },
      "source": [
        "import requests\n",
        "from PIL import Image\n",
        "from io import BytesIO\n",
        "import os\n",
        "\n",
        "import torch, torchvision\n",
        "from torch import nn, optim\n",
        "from torchvision import datasets, models, transforms\n",
        "import matplotlib.pyplot as plt\n",
        "import math\n",
        "\n",
        "subscription_key = \"\" #removed for privacy\n",
        "search_url = \"https://api.bing.microsoft.com/v7.0/images/search\""
      ],
      "execution_count": null,
      "outputs": []
    },
    {
      "cell_type": "code",
      "metadata": {
        "id": "i0bDw-k2vJ2U"
      },
      "source": [
        "headers = {\"Ocp-Apim-Subscription-Key\" : subscription_key}"
      ],
      "execution_count": null,
      "outputs": []
    },
    {
      "cell_type": "markdown",
      "metadata": {
        "id": "BtpLOzyGJQ5E"
      },
      "source": [
        "Creating Directories for Datasets:"
      ]
    },
    {
      "cell_type": "code",
      "metadata": {
        "id": "SlD6m_3IuXIL"
      },
      "source": [
        "eggplant_dir = os.path.join(\"dataset\",\"eggplant\")\n",
        "os.makedirs(eggplant_dir, exist_ok=True)\n",
        "\n",
        "olives_dir = os.path.join(\"dataset\",\"olives\")\n",
        "os.makedirs(olives_dir, exist_ok=True)\n",
        "\n",
        "greenbeans_dir = os.path.join(\"dataset\",\"greenbeans\")\n",
        "os.makedirs(greenbeans_dir, exist_ok=True)\n",
        "\n",
        "peppers_dir = os.path.join(\"dataset\",\"bellpeppers\")\n",
        "os.makedirs(peppers_dir, exist_ok=True)\n",
        "\n",
        "onions_dir = os.path.join(\"dataset\",\"onions\")\n",
        "os.makedirs(onions_dir, exist_ok=True)\n",
        "\n",
        "potatoes_dir = os.path.join(\"dataset\",\"potatoes\")\n",
        "os.makedirs(potatoes_dir, exist_ok=True)\n",
        "\n",
        "spinach_dir = os.path.join(\"dataset\",\"spinach\")\n",
        "os.makedirs(spinach_dir, exist_ok=True)\n",
        "\n",
        "tomato_dir = os.path.join(\"dataset\",\"tomato\")\n",
        "os.makedirs(tomato_dir, exist_ok=True)\n",
        "\n",
        "lettuce_dir = os.path.join(\"dataset\",\"lettuce\")\n",
        "os.makedirs(lettuce_dir, exist_ok=True)"
      ],
      "execution_count": null,
      "outputs": []
    },
    {
      "cell_type": "markdown",
      "metadata": {
        "id": "t3MbTeBPJU0c"
      },
      "source": [
        "**Function for Scraping Images via Bing Image Search API**\n",
        "\n",
        "For this part, the quickstart guide at https://docs.microsoft.com/en-us/bing/search-apis/bing-image-search/quickstarts/rest/python was used as a reference\n",
        "\n",
        "The function downloadImages will collect numImages images for the query and stored the images at the path specified by destination\n",
        "\n",
        "\n",
        "Inputs:\n",
        "*   query - the search term\n",
        "*   numImages - number of images to collect\n",
        "*   destination - destination folder to store scraped images\n",
        "*   offset - offset at which to start scraping images\n",
        "*   namingoffset - by default, images will be named from 0 to (numImages - 1). If namingoffset is not 0, images will be named from namingoffset to (namingoffset + numImages - 1) \n"
      ]
    },
    {
      "cell_type": "code",
      "metadata": {
        "id": "ZZ50-4lcubNO"
      },
      "source": [
        "def downloadImages(query, numImages, destination, offset=0, namingoffset=0):\n",
        "    count = numImages\n",
        "    if numImages > 150:\n",
        "      count = 150\n",
        "\n",
        "    offset = 0\n",
        "    imgNum = namingoffset\n",
        "    batch_count = count;\n",
        "    numLeft = numImages\n",
        "\n",
        "    for num_search in range(0, math.ceil(numImages / 150)) :  \n",
        "        params  = {\"q\": query, \"license\": \"public\", \"imageType\": \"photo\", \"count\": count, \"offset\":offset}\n",
        "        response = requests.get(search_url, headers=headers, params=params)\n",
        "        response.raise_for_status()\n",
        "        search_results = response.json()\n",
        "        thumbnail_urls = [img[\"thumbnailUrl\"] for img in search_results[\"value\"][:numImages]]\n",
        "        offset = search_results[\"nextOffset\"]\n",
        "\n",
        "        for i in range(0, batch_count):\n",
        "          image_data = requests.get(thumbnail_urls[i])\n",
        "          image_data.raise_for_status()\n",
        "          image = Image.open(BytesIO(image_data.content)) \n",
        "          full_path = os.path.join(destination, f\"{imgNum:03}.jpg\")\n",
        "          image.save(full_path, 'JPEG')\n",
        "          imgNum += 1\n",
        "\n",
        "        numLeft -= count\n",
        "        if numLeft < 150 and numLeft > 0:\n",
        "          batch_count = numLeft"
      ],
      "execution_count": null,
      "outputs": []
    },
    {
      "cell_type": "markdown",
      "metadata": {
        "id": "lC2JaGDVILVp"
      },
      "source": [
        "Eggplant Dataset:"
      ]
    },
    {
      "cell_type": "code",
      "metadata": {
        "id": "jdUcbuRIuc9i"
      },
      "source": [
        "downloadImages(\"eggplant\", 400, eggplant_dir)"
      ],
      "execution_count": null,
      "outputs": []
    },
    {
      "cell_type": "code",
      "metadata": {
        "id": "emcOE7E3QELx"
      },
      "source": [
        "!zip -r ./eggplant_set.zip ./dataset/eggplant\n",
        "from google.colab import files\n",
        "files.download(\"./eggplant_set.zip\")"
      ],
      "execution_count": null,
      "outputs": []
    },
    {
      "cell_type": "markdown",
      "metadata": {
        "id": "5CEAolP3IPUr"
      },
      "source": [
        "Olive Dataset:"
      ]
    },
    {
      "cell_type": "code",
      "metadata": {
        "id": "BJXn-PgiQKpP"
      },
      "source": [
        "downloadImages(\"olives\", 350, olives_dir)"
      ],
      "execution_count": null,
      "outputs": []
    },
    {
      "cell_type": "code",
      "metadata": {
        "id": "UGHD3vnKQTJZ"
      },
      "source": [
        "!zip -r ./olives_set.zip ./dataset/olives\n",
        "from google.colab import files\n",
        "files.download(\"./olives_set.zip\")"
      ],
      "execution_count": null,
      "outputs": []
    },
    {
      "cell_type": "markdown",
      "metadata": {
        "id": "u73w87EbISMN"
      },
      "source": [
        "Green Beans Dataset:"
      ]
    },
    {
      "cell_type": "code",
      "metadata": {
        "id": "rMbGEADoSVn2"
      },
      "source": [
        "downloadImages(\"green beans\", 350, greenbeans_dir)"
      ],
      "execution_count": null,
      "outputs": []
    },
    {
      "cell_type": "code",
      "metadata": {
        "id": "otK3cp1pSYr_"
      },
      "source": [
        "!zip -r ./greenbeans_set.zip ./dataset/greenbeans\n",
        "from google.colab import files\n",
        "files.download(\"./greenbeans_set.zip\")"
      ],
      "execution_count": null,
      "outputs": []
    },
    {
      "cell_type": "markdown",
      "metadata": {
        "id": "xsFD4P96IVQ1"
      },
      "source": [
        "Bell pepper Dataset:"
      ]
    },
    {
      "cell_type": "code",
      "metadata": {
        "id": "CeM0v1MoSbl3"
      },
      "source": [
        "downloadImages(\"bell peppers\", 350, peppers_dir)"
      ],
      "execution_count": null,
      "outputs": []
    },
    {
      "cell_type": "code",
      "metadata": {
        "id": "RaA5XqUVuyku"
      },
      "source": [
        "!zip -r ./bellpepper_set.zip ./dataset/bellpeppers\n",
        "from google.colab import files\n",
        "files.download(\"./bellpepper_set.zip\")"
      ],
      "execution_count": null,
      "outputs": []
    },
    {
      "cell_type": "markdown",
      "metadata": {
        "id": "f3NpiMrTIX4d"
      },
      "source": [
        "Onion Dataset"
      ]
    },
    {
      "cell_type": "code",
      "metadata": {
        "id": "0jDcJ1PuSepp"
      },
      "source": [
        "downloadImages(\"onions\", 350, onions_dir)"
      ],
      "execution_count": null,
      "outputs": []
    },
    {
      "cell_type": "code",
      "metadata": {
        "id": "eZRBjvfiSg55"
      },
      "source": [
        "!zip -r ./onions_set.zip ./dataset/onions\n",
        "from google.colab import files\n",
        "files.download(\"./onions_set.zip\")"
      ],
      "execution_count": null,
      "outputs": []
    },
    {
      "cell_type": "markdown",
      "metadata": {
        "id": "MZqswyymTGbn"
      },
      "source": [
        "Alternate Queries for Onions\n",
        "\n",
        "More specific queries were needed for the onion dataset since using \"onions\" as the query also gave green onions as results when we are referring to yellow/white/red onions"
      ]
    },
    {
      "cell_type": "code",
      "metadata": {
        "id": "yrehmPCYTFbg"
      },
      "source": [
        "redonions_dir = os.path.join(\"dataset\",\"onions_red\")\n",
        "os.makedirs(redonions_dir, exist_ok=True)"
      ],
      "execution_count": null,
      "outputs": []
    },
    {
      "cell_type": "code",
      "metadata": {
        "id": "ca7xti0Ai-jI"
      },
      "source": [
        "whiteonions_dir = os.path.join(\"dataset\",\"onions_white\")\n",
        "os.makedirs(whiteonions_dir, exist_ok=True)"
      ],
      "execution_count": null,
      "outputs": []
    },
    {
      "cell_type": "code",
      "metadata": {
        "id": "jZyizAaVi_ox"
      },
      "source": [
        "yellowonions_dir = os.path.join(\"dataset\",\"onions_yellow\")\n",
        "os.makedirs(yellowonions_dir, exist_ok=True)"
      ],
      "execution_count": null,
      "outputs": []
    },
    {
      "cell_type": "code",
      "metadata": {
        "id": "m9JhRACIipnT"
      },
      "source": [
        "downloadImages(\"red onions\", 120, redonions_dir)"
      ],
      "execution_count": null,
      "outputs": []
    },
    {
      "cell_type": "code",
      "metadata": {
        "id": "jOzMKX9Oirys"
      },
      "source": [
        "downloadImages(\"white onions\", 120, whiteonions_dir, 0, 120)"
      ],
      "execution_count": null,
      "outputs": []
    },
    {
      "cell_type": "code",
      "metadata": {
        "id": "fzkexowtisb4"
      },
      "source": [
        "downloadImages(\"yellow onions\", 120, yellowonions_dir, 101, 240) #use offset 101 for yellow onions since I am expecting significant overlap between white & yellow onions"
      ],
      "execution_count": null,
      "outputs": []
    },
    {
      "cell_type": "code",
      "metadata": {
        "id": "MKYakULujdnh"
      },
      "source": [
        "!zip -r ./redonions_set.zip ./dataset/onions_red\n",
        "from google.colab import files\n",
        "files.download(\"./redonions_set.zip\")"
      ],
      "execution_count": null,
      "outputs": []
    },
    {
      "cell_type": "code",
      "metadata": {
        "id": "mXKLiNPijlxw"
      },
      "source": [
        "!zip -r ./whiteonions_set.zip ./dataset/onions_white\n",
        "from google.colab import files\n",
        "files.download(\"./whiteonions_set.zip\")"
      ],
      "execution_count": null,
      "outputs": []
    },
    {
      "cell_type": "code",
      "metadata": {
        "id": "EAA6ls50jmJW"
      },
      "source": [
        "!zip -r ./yellowonions_set.zip ./dataset/onions_yellow\n",
        "from google.colab import files\n",
        "files.download(\"./yellowonions_set.zip\")"
      ],
      "execution_count": null,
      "outputs": []
    },
    {
      "cell_type": "markdown",
      "metadata": {
        "id": "3Am9JHjxIc9z"
      },
      "source": [
        "Potato Dataset:"
      ]
    },
    {
      "cell_type": "code",
      "metadata": {
        "id": "7VVMdjlqjsoL"
      },
      "source": [
        "downloadImages(\"potatoes\", 350, potatoes_dir)"
      ],
      "execution_count": null,
      "outputs": []
    },
    {
      "cell_type": "code",
      "metadata": {
        "id": "J0capBTDjzqG"
      },
      "source": [
        "!zip -r ./potato_set.zip ./dataset/potatoes\n",
        "from google.colab import files\n",
        "files.download(\"./potato_set.zip\")"
      ],
      "execution_count": null,
      "outputs": []
    },
    {
      "cell_type": "markdown",
      "metadata": {
        "id": "Y6OgA-S3GPKj"
      },
      "source": [
        "Alternate Queries for Potatoes\n",
        "\n",
        "More specific queries were needed for the potato dataset since using \"potatoes\" as the query also gave many images of cooked potato dishes as results"
      ]
    },
    {
      "cell_type": "code",
      "metadata": {
        "id": "IqGMDckIGdSD"
      },
      "source": [
        "rawpotatoes_dir = os.path.join(\"dataset\",\"potatoes_raw\")\n",
        "os.makedirs(rawpotatoes_dir, exist_ok=True)"
      ],
      "execution_count": null,
      "outputs": []
    },
    {
      "cell_type": "code",
      "metadata": {
        "id": "YVTSefyxGktu"
      },
      "source": [
        "downloadImages(\"raw potatoes\", 100, rawpotatoes_dir, 0, 301)"
      ],
      "execution_count": null,
      "outputs": []
    },
    {
      "cell_type": "code",
      "metadata": {
        "id": "BgeR-3z3GszG"
      },
      "source": [
        "!zip -r ./rawpotato_set.zip ./dataset/potatoes_raw\n",
        "from google.colab import files\n",
        "files.download(\"./rawpotato_set.zip\")"
      ],
      "execution_count": null,
      "outputs": []
    },
    {
      "cell_type": "code",
      "metadata": {
        "id": "9yCCPaB9GxEv"
      },
      "source": [
        "downloadImages(\"russet potato\", 100, potatoes_dir, 200, 401)"
      ],
      "execution_count": null,
      "outputs": []
    },
    {
      "cell_type": "code",
      "metadata": {
        "id": "AG7H9MODHbHD"
      },
      "source": [
        "!zip -r ./russetpotato_set.zip ./dataset/potatoes_russet\n",
        "from google.colab import files\n",
        "files.download(\"./russetpotato_set.zip\")"
      ],
      "execution_count": null,
      "outputs": []
    },
    {
      "cell_type": "markdown",
      "metadata": {
        "id": "q1Km-hf9If_3"
      },
      "source": [
        "Spinash Dataset:"
      ]
    },
    {
      "cell_type": "code",
      "metadata": {
        "id": "XwH7TK7uHfxx"
      },
      "source": [
        "downloadImages(\"spinach\", 350, spinach_dir)"
      ],
      "execution_count": null,
      "outputs": []
    },
    {
      "cell_type": "code",
      "metadata": {
        "id": "OKsx0rU6HlaX"
      },
      "source": [
        "!zip -r ./spinach_set.zip ./dataset/spinach\n",
        "from google.colab import files\n",
        "files.download(\"./spinach_set.zip\")"
      ],
      "execution_count": null,
      "outputs": []
    },
    {
      "cell_type": "markdown",
      "metadata": {
        "id": "V1bk3_q9IicS"
      },
      "source": [
        "Tomato Dataset:"
      ]
    },
    {
      "cell_type": "code",
      "metadata": {
        "id": "xoLgYjD_HpIh"
      },
      "source": [
        "downloadImages(\"tomato\", 350, tomato_dir)"
      ],
      "execution_count": null,
      "outputs": []
    },
    {
      "cell_type": "code",
      "metadata": {
        "id": "ZdpDs8wFHqRt"
      },
      "source": [
        "!zip -r ./tomato_set.zip ./dataset/tomato\n",
        "from google.colab import files\n",
        "files.download(\"./tomato_set.zip\")"
      ],
      "execution_count": null,
      "outputs": []
    },
    {
      "cell_type": "markdown",
      "metadata": {
        "id": "OqG1DnSfIkrl"
      },
      "source": [
        "Lettuce Dataset:"
      ]
    },
    {
      "cell_type": "code",
      "metadata": {
        "id": "oEk9z4-bHsHt"
      },
      "source": [
        "downloadImages(\"lettuce\", 350, lettuce_dir)"
      ],
      "execution_count": null,
      "outputs": []
    },
    {
      "cell_type": "code",
      "metadata": {
        "id": "J_gGF4VqHtyN"
      },
      "source": [
        "!zip -r ./lettuce_set.zip ./dataset/lettuce\n",
        "from google.colab import files\n",
        "files.download(\"./lettuce_set.zip\")"
      ],
      "execution_count": null,
      "outputs": []
    }
  ]
}
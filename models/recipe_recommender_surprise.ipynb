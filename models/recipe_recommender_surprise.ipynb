{
 "cells": [
  {
   "cell_type": "code",
   "execution_count": 53,
   "id": "moving-lincoln",
   "metadata": {},
   "outputs": [],
   "source": [
    "import pandas as pd\n",
    "from surprise import SVD, Reader, SVDpp\n",
    "from surprise import Dataset\n",
    "from surprise.model_selection import cross_validate"
   ]
  },
  {
   "cell_type": "code",
   "execution_count": 26,
   "id": "related-dayton",
   "metadata": {},
   "outputs": [],
   "source": [
    "ingr_map = pd.read_pickle(\"../datasets/our_ingr_map.pkl\")\n",
    "recipes = pd.read_pickle(\"../datasets/our_recipes.pkl\")\n",
    "interactions = pd.read_pickle(\"../datasets/our_interactions.pkl\")"
   ]
  },
  {
   "cell_type": "code",
   "execution_count": 27,
   "id": "fitting-linux",
   "metadata": {},
   "outputs": [
    {
     "data": {
      "text/html": [
       "<div>\n",
       "<style scoped>\n",
       "    .dataframe tbody tr th:only-of-type {\n",
       "        vertical-align: middle;\n",
       "    }\n",
       "\n",
       "    .dataframe tbody tr th {\n",
       "        vertical-align: top;\n",
       "    }\n",
       "\n",
       "    .dataframe thead th {\n",
       "        text-align: right;\n",
       "    }\n",
       "</style>\n",
       "<table border=\"1\" class=\"dataframe\">\n",
       "  <thead>\n",
       "    <tr style=\"text-align: right;\">\n",
       "      <th></th>\n",
       "      <th>user_id</th>\n",
       "      <th>recipe_id</th>\n",
       "      <th>date</th>\n",
       "      <th>rating</th>\n",
       "      <th>u</th>\n",
       "    </tr>\n",
       "  </thead>\n",
       "  <tbody>\n",
       "    <tr>\n",
       "      <th>0</th>\n",
       "      <td>2046</td>\n",
       "      <td>517</td>\n",
       "      <td>2000-02-25</td>\n",
       "      <td>5.0</td>\n",
       "      <td>22095</td>\n",
       "    </tr>\n",
       "    <tr>\n",
       "      <th>1</th>\n",
       "      <td>868626</td>\n",
       "      <td>517</td>\n",
       "      <td>2009-07-24</td>\n",
       "      <td>5.0</td>\n",
       "      <td>11611</td>\n",
       "    </tr>\n",
       "    <tr>\n",
       "      <th>2</th>\n",
       "      <td>1773</td>\n",
       "      <td>7435</td>\n",
       "      <td>2000-03-13</td>\n",
       "      <td>5.0</td>\n",
       "      <td>24732</td>\n",
       "    </tr>\n",
       "    <tr>\n",
       "      <th>3</th>\n",
       "      <td>16346</td>\n",
       "      <td>7435</td>\n",
       "      <td>2001-08-23</td>\n",
       "      <td>0.0</td>\n",
       "      <td>15023</td>\n",
       "    </tr>\n",
       "    <tr>\n",
       "      <th>4</th>\n",
       "      <td>10649</td>\n",
       "      <td>7435</td>\n",
       "      <td>2001-12-06</td>\n",
       "      <td>3.0</td>\n",
       "      <td>17766</td>\n",
       "    </tr>\n",
       "  </tbody>\n",
       "</table>\n",
       "</div>"
      ],
      "text/plain": [
       "   user_id  recipe_id        date  rating      u\n",
       "0     2046        517  2000-02-25     5.0  22095\n",
       "1   868626        517  2009-07-24     5.0  11611\n",
       "2     1773       7435  2000-03-13     5.0  24732\n",
       "3    16346       7435  2001-08-23     0.0  15023\n",
       "4    10649       7435  2001-12-06     3.0  17766"
      ]
     },
     "execution_count": 27,
     "metadata": {},
     "output_type": "execute_result"
    }
   ],
   "source": [
    "interactions.head(5)"
   ]
  },
  {
   "cell_type": "code",
   "execution_count": 29,
   "id": "golden-porcelain",
   "metadata": {},
   "outputs": [],
   "source": [
    "# A reader is still needed but only the rating_scale param is requiered.\n",
    "reader = Reader(rating_scale=(0, 5))\n",
    "\n",
    "# The columns must correspond to user id, item id and ratings (in that order).\n",
    "data = Dataset.load_from_df(interactions[['user_id', 'recipe_id', 'rating']], reader)\n",
    "\n",
    "# We can now use this dataset as we please, e.g. calling cross_validate\n",
    "# cross_validate(SVD(), data, cv=2)"
   ]
  },
  {
   "cell_type": "code",
   "execution_count": 30,
   "id": "configured-military",
   "metadata": {},
   "outputs": [],
   "source": [
    "trainset = data.build_full_trainset()"
   ]
  },
  {
   "cell_type": "code",
   "execution_count": 31,
   "id": "electrical-communication",
   "metadata": {
    "scrolled": true
   },
   "outputs": [
    {
     "name": "stdout",
     "output_type": "stream",
     "text": [
      "CPU times: user 33.6 s, sys: 209 ms, total: 33.8 s\n",
      "Wall time: 34.5 s\n"
     ]
    },
    {
     "data": {
      "text/plain": [
       "<surprise.prediction_algorithms.matrix_factorization.SVD at 0x139fe0d00>"
      ]
     },
     "execution_count": 31,
     "metadata": {},
     "output_type": "execute_result"
    }
   ],
   "source": [
    "# We'll use the famous SVD algorithm.\n",
    "algo = SVD()\n",
    "\n",
    "# Train the algorithm on the trainset, and predict ratings for the testset\n",
    "%time algo.fit(trainset)"
   ]
  },
  {
   "cell_type": "code",
   "execution_count": 36,
   "id": "entire-bristol",
   "metadata": {},
   "outputs": [],
   "source": [
    "def get_recommendations_for_user(algo, dataset, user_id):\n",
    "    ratings = []\n",
    "    for recipe_id in dataset[\"recipe_id\"].unique():\n",
    "        pred = algo.predict(user_id, recipe_id)\n",
    "        ratings += [(recipe_id, pred)]\n",
    "    return sorted(ratings, key=lambda x: x[1], reverse=True)"
   ]
  },
  {
   "cell_type": "code",
   "execution_count": 47,
   "id": "proud-spoke",
   "metadata": {},
   "outputs": [
    {
     "data": {
      "text/plain": [
       "[(115849,\n",
       "  Prediction(uid=603504, iid=115849, r_ui=None, est=2.789493308338787, details={'was_impossible': False}))]"
      ]
     },
     "execution_count": 47,
     "metadata": {},
     "output_type": "execute_result"
    }
   ],
   "source": [
    "list(filter(lambda x: x[0] ==115849, get_recommendations_for_user(algo, interactions, 603504)))"
   ]
  },
  {
   "cell_type": "code",
   "execution_count": 57,
   "id": "ranging-emperor",
   "metadata": {},
   "outputs": [
    {
     "data": {
      "text/plain": [
       "{'test_rmse': array([0.93408599, 0.94920781, 0.93079432, 0.93617153, 0.93450808]),\n",
       " 'test_mae': array([0.55707155, 0.56372052, 0.55657858, 0.5582774 , 0.5575665 ]),\n",
       " 'fit_time': (20.539171934127808,\n",
       "  21.628021001815796,\n",
       "  20.57081699371338,\n",
       "  20.00734806060791,\n",
       "  19.868424892425537),\n",
       " 'test_time': (0.6464390754699707,\n",
       "  1.827733039855957,\n",
       "  0.5955562591552734,\n",
       "  1.5630760192871094,\n",
       "  0.6073510646820068)}"
      ]
     },
     "execution_count": 57,
     "metadata": {},
     "output_type": "execute_result"
    }
   ],
   "source": [
    "cross_validate(SVD(), data, cv=5)"
   ]
  },
  {
   "cell_type": "code",
   "execution_count": null,
   "id": "lesser-honor",
   "metadata": {},
   "outputs": [],
   "source": []
  }
 ],
 "metadata": {
  "kernelspec": {
   "display_name": "Python 3",
   "language": "python",
   "name": "python3"
  },
  "language_info": {
   "codemirror_mode": {
    "name": "ipython",
    "version": 3
   },
   "file_extension": ".py",
   "mimetype": "text/x-python",
   "name": "python",
   "nbconvert_exporter": "python",
   "pygments_lexer": "ipython3",
   "version": "3.8.5"
  }
 },
 "nbformat": 4,
 "nbformat_minor": 5
}

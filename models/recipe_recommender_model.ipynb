{
 "cells": [
  {
   "cell_type": "code",
   "execution_count": 1,
   "id": "collect-venezuela",
   "metadata": {
    "scrolled": true
   },
   "outputs": [
    {
     "name": "stdout",
     "output_type": "stream",
     "text": [
      "Requirement already satisfied: torch==1.7.1 in /Users/boweiren/opt/anaconda3/lib/python3.8/site-packages (1.7.1)\n",
      "Requirement already satisfied: torchtext==0.8.1 in /Users/boweiren/opt/anaconda3/lib/python3.8/site-packages (0.8.1)\n",
      "Requirement already satisfied: torchvision==0.8.2 in /Users/boweiren/opt/anaconda3/lib/python3.8/site-packages (0.8.2)\n",
      "Requirement already satisfied: typing_extensions in /Users/boweiren/opt/anaconda3/lib/python3.8/site-packages (from torch==1.7.1) (3.7.4.3)\n",
      "Requirement already satisfied: numpy in /Users/boweiren/opt/anaconda3/lib/python3.8/site-packages (from torch==1.7.1) (1.19.2)\n",
      "Requirement already satisfied: tqdm in /Users/boweiren/opt/anaconda3/lib/python3.8/site-packages (from torchtext==0.8.1) (4.50.2)\n",
      "Requirement already satisfied: requests in /Users/boweiren/opt/anaconda3/lib/python3.8/site-packages (from torchtext==0.8.1) (2.24.0)\n",
      "Requirement already satisfied: pillow>=4.1.1 in /Users/boweiren/opt/anaconda3/lib/python3.8/site-packages (from torchvision==0.8.2) (8.0.1)\n",
      "Requirement already satisfied: chardet<4,>=3.0.2 in /Users/boweiren/opt/anaconda3/lib/python3.8/site-packages (from requests->torchtext==0.8.1) (3.0.4)\n",
      "Requirement already satisfied: urllib3!=1.25.0,!=1.25.1,<1.26,>=1.21.1 in /Users/boweiren/opt/anaconda3/lib/python3.8/site-packages (from requests->torchtext==0.8.1) (1.25.11)\n",
      "Requirement already satisfied: certifi>=2017.4.17 in /Users/boweiren/opt/anaconda3/lib/python3.8/site-packages (from requests->torchtext==0.8.1) (2020.6.20)\n",
      "Requirement already satisfied: idna<3,>=2.5 in /Users/boweiren/opt/anaconda3/lib/python3.8/site-packages (from requests->torchtext==0.8.1) (2.10)\n"
     ]
    }
   ],
   "source": [
    "!pip install --upgrade torch==1.7.1 torchtext==0.8.1 torchvision==0.8.2"
   ]
  },
  {
   "cell_type": "code",
   "execution_count": 1,
   "id": "abroad-worship",
   "metadata": {},
   "outputs": [],
   "source": [
    "import torch, torchtext, numpy as np\n",
    "import pandas as pd, csv\n",
    "from torch import nn, optim\n",
    "from tqdm.auto import tqdm\n",
    "import matplotlib.pyplot as plt\n",
    "import pdb\n",
    "torch.manual_seed(291)\n",
    "np.random.seed(291)"
   ]
  },
  {
   "cell_type": "code",
   "execution_count": 2,
   "id": "dressed-laser",
   "metadata": {},
   "outputs": [],
   "source": [
    "ingr_map = pd.read_pickle(\"../datasets/our_ingr_map.pkl\")\n",
    "recipes = pd.read_pickle(\"../datasets/our_recipes.pkl\")\n",
    "interactions = pd.read_pickle(\"../datasets/our_interactions.pkl\")"
   ]
  },
  {
   "cell_type": "code",
   "execution_count": 3,
   "id": "alone-coordinate",
   "metadata": {},
   "outputs": [],
   "source": [
    "class RecipeDataset(torch.utils.data.Dataset):\n",
    "    def __init__(self, df):\n",
    "        self.u2n = { u: n for n, u in enumerate(df['user_id'].unique()) }\n",
    "        self.r2n = { r: n for n, r in enumerate(df['recipe_id'].unique()) }\n",
    "        df['user_id_n'] = df['user_id'].apply(lambda u: self.u2n[u])\n",
    "        df['recipe_id_n'] = df['recipe_id'].apply(lambda r: self.r2n[r])\n",
    "        self.coords = torch.LongTensor(df[['user_id_n','recipe_id_n']].values)\n",
    "        self.ratings = torch.FloatTensor(df['rating'].values)\n",
    "        self.n_users = df['user_id_n'].nunique()\n",
    "        self.n_recipes = df['recipe_id_n'].nunique()\n",
    "\n",
    "    def __len__(self):\n",
    "        return len(self.coords)\n",
    "\n",
    "    def __getitem__(self, i):\n",
    "        return (self.coords[i], self.ratings[i])"
   ]
  },
  {
   "cell_type": "code",
   "execution_count": 4,
   "id": "textile-wrong",
   "metadata": {
    "scrolled": true
   },
   "outputs": [
    {
     "data": {
      "text/html": [
       "<div>\n",
       "<style scoped>\n",
       "    .dataframe tbody tr th:only-of-type {\n",
       "        vertical-align: middle;\n",
       "    }\n",
       "\n",
       "    .dataframe tbody tr th {\n",
       "        vertical-align: top;\n",
       "    }\n",
       "\n",
       "    .dataframe thead th {\n",
       "        text-align: right;\n",
       "    }\n",
       "</style>\n",
       "<table border=\"1\" class=\"dataframe\">\n",
       "  <thead>\n",
       "    <tr style=\"text-align: right;\">\n",
       "      <th></th>\n",
       "      <th>user_id</th>\n",
       "      <th>recipe_id</th>\n",
       "      <th>date</th>\n",
       "      <th>rating</th>\n",
       "    </tr>\n",
       "  </thead>\n",
       "  <tbody>\n",
       "    <tr>\n",
       "      <th>0</th>\n",
       "      <td>2046</td>\n",
       "      <td>517</td>\n",
       "      <td>2000-02-25</td>\n",
       "      <td>5.0</td>\n",
       "    </tr>\n",
       "    <tr>\n",
       "      <th>1</th>\n",
       "      <td>868626</td>\n",
       "      <td>517</td>\n",
       "      <td>2009-07-24</td>\n",
       "      <td>5.0</td>\n",
       "    </tr>\n",
       "    <tr>\n",
       "      <th>2</th>\n",
       "      <td>1773</td>\n",
       "      <td>7435</td>\n",
       "      <td>2000-03-13</td>\n",
       "      <td>5.0</td>\n",
       "    </tr>\n",
       "    <tr>\n",
       "      <th>3</th>\n",
       "      <td>16346</td>\n",
       "      <td>7435</td>\n",
       "      <td>2001-08-23</td>\n",
       "      <td>0.0</td>\n",
       "    </tr>\n",
       "    <tr>\n",
       "      <th>4</th>\n",
       "      <td>10649</td>\n",
       "      <td>7435</td>\n",
       "      <td>2001-12-06</td>\n",
       "      <td>3.0</td>\n",
       "    </tr>\n",
       "    <tr>\n",
       "      <th>5</th>\n",
       "      <td>35414</td>\n",
       "      <td>7435</td>\n",
       "      <td>2002-03-26</td>\n",
       "      <td>4.0</td>\n",
       "    </tr>\n",
       "    <tr>\n",
       "      <th>6</th>\n",
       "      <td>26652</td>\n",
       "      <td>7435</td>\n",
       "      <td>2004-03-18</td>\n",
       "      <td>5.0</td>\n",
       "    </tr>\n",
       "    <tr>\n",
       "      <th>7</th>\n",
       "      <td>122001</td>\n",
       "      <td>7435</td>\n",
       "      <td>2004-03-19</td>\n",
       "      <td>5.0</td>\n",
       "    </tr>\n",
       "    <tr>\n",
       "      <th>8</th>\n",
       "      <td>121581</td>\n",
       "      <td>7435</td>\n",
       "      <td>2005-02-15</td>\n",
       "      <td>5.0</td>\n",
       "    </tr>\n",
       "    <tr>\n",
       "      <th>9</th>\n",
       "      <td>161717</td>\n",
       "      <td>7435</td>\n",
       "      <td>2005-03-22</td>\n",
       "      <td>5.0</td>\n",
       "    </tr>\n",
       "  </tbody>\n",
       "</table>\n",
       "</div>"
      ],
      "text/plain": [
       "   user_id  recipe_id        date  rating\n",
       "0     2046        517  2000-02-25     5.0\n",
       "1   868626        517  2009-07-24     5.0\n",
       "2     1773       7435  2000-03-13     5.0\n",
       "3    16346       7435  2001-08-23     0.0\n",
       "4    10649       7435  2001-12-06     3.0\n",
       "5    35414       7435  2002-03-26     4.0\n",
       "6    26652       7435  2004-03-18     5.0\n",
       "7   122001       7435  2004-03-19     5.0\n",
       "8   121581       7435  2005-02-15     5.0\n",
       "9   161717       7435  2005-03-22     5.0"
      ]
     },
     "execution_count": 4,
     "metadata": {},
     "output_type": "execute_result"
    }
   ],
   "source": [
    "interactions.head(10)"
   ]
  },
  {
   "cell_type": "code",
   "execution_count": 5,
   "id": "nuclear-monday",
   "metadata": {},
   "outputs": [],
   "source": [
    "ds_full = RecipeDataset(interactions)"
   ]
  },
  {
   "cell_type": "markdown",
   "id": "arranged-reserve",
   "metadata": {},
   "source": [
    "## Lets look into similarities here\n",
    "\n",
    "* one idea is that we could fill in the entire recommendation matrix so every user has a rating for every recipe, then we can much more easily just calculate cosine similarity since the matrix is no longer sparse\n",
    "\n",
    "Instead, lets try RF-recommendation"
   ]
  },
  {
   "cell_type": "code",
   "execution_count": 6,
   "id": "educational-steal",
   "metadata": {},
   "outputs": [],
   "source": [
    "df= interactions"
   ]
  },
  {
   "cell_type": "code",
   "execution_count": 7,
   "id": "adjacent-narrative",
   "metadata": {},
   "outputs": [
    {
     "data": {
      "text/html": [
       "<div>\n",
       "<style scoped>\n",
       "    .dataframe tbody tr th:only-of-type {\n",
       "        vertical-align: middle;\n",
       "    }\n",
       "\n",
       "    .dataframe tbody tr th {\n",
       "        vertical-align: top;\n",
       "    }\n",
       "\n",
       "    .dataframe thead th {\n",
       "        text-align: right;\n",
       "    }\n",
       "</style>\n",
       "<table border=\"1\" class=\"dataframe\">\n",
       "  <thead>\n",
       "    <tr style=\"text-align: right;\">\n",
       "      <th></th>\n",
       "      <th>user_id</th>\n",
       "      <th>recipe_id</th>\n",
       "      <th>date</th>\n",
       "      <th>rating</th>\n",
       "      <th>user_id_n</th>\n",
       "      <th>recipe_id_n</th>\n",
       "    </tr>\n",
       "  </thead>\n",
       "  <tbody>\n",
       "    <tr>\n",
       "      <th>0</th>\n",
       "      <td>2046</td>\n",
       "      <td>517</td>\n",
       "      <td>2000-02-25</td>\n",
       "      <td>5.0</td>\n",
       "      <td>0</td>\n",
       "      <td>0</td>\n",
       "    </tr>\n",
       "    <tr>\n",
       "      <th>39</th>\n",
       "      <td>2046</td>\n",
       "      <td>3431</td>\n",
       "      <td>2000-04-07</td>\n",
       "      <td>5.0</td>\n",
       "      <td>0</td>\n",
       "      <td>3</td>\n",
       "    </tr>\n",
       "    <tr>\n",
       "      <th>47</th>\n",
       "      <td>2046</td>\n",
       "      <td>13307</td>\n",
       "      <td>2000-05-21</td>\n",
       "      <td>5.0</td>\n",
       "      <td>0</td>\n",
       "      <td>4</td>\n",
       "    </tr>\n",
       "  </tbody>\n",
       "</table>\n",
       "</div>"
      ],
      "text/plain": [
       "    user_id  recipe_id        date  rating  user_id_n  recipe_id_n\n",
       "0      2046        517  2000-02-25     5.0          0            0\n",
       "39     2046       3431  2000-04-07     5.0          0            3\n",
       "47     2046      13307  2000-05-21     5.0          0            4"
      ]
     },
     "execution_count": 7,
     "metadata": {},
     "output_type": "execute_result"
    }
   ],
   "source": [
    "df[df[\"user_id\"]==2046]"
   ]
  },
  {
   "cell_type": "code",
   "execution_count": 9,
   "id": "settled-utilization",
   "metadata": {
    "scrolled": false
   },
   "outputs": [
    {
     "data": {
      "text/html": [
       "<div>\n",
       "<style scoped>\n",
       "    .dataframe tbody tr th:only-of-type {\n",
       "        vertical-align: middle;\n",
       "    }\n",
       "\n",
       "    .dataframe tbody tr th {\n",
       "        vertical-align: top;\n",
       "    }\n",
       "\n",
       "    .dataframe thead th {\n",
       "        text-align: right;\n",
       "    }\n",
       "</style>\n",
       "<table border=\"1\" class=\"dataframe\">\n",
       "  <thead>\n",
       "    <tr style=\"text-align: right;\">\n",
       "      <th></th>\n",
       "      <th>user_id</th>\n",
       "      <th>recipe_id</th>\n",
       "      <th>date</th>\n",
       "      <th>rating</th>\n",
       "      <th>user_id_n</th>\n",
       "      <th>recipe_id_n</th>\n",
       "    </tr>\n",
       "  </thead>\n",
       "  <tbody>\n",
       "    <tr>\n",
       "      <th>3</th>\n",
       "      <td>16346</td>\n",
       "      <td>7435</td>\n",
       "      <td>2001-08-23</td>\n",
       "      <td>0.0</td>\n",
       "      <td>3</td>\n",
       "      <td>1</td>\n",
       "    </tr>\n",
       "    <tr>\n",
       "      <th>36</th>\n",
       "      <td>862099</td>\n",
       "      <td>278</td>\n",
       "      <td>2010-08-22</td>\n",
       "      <td>0.0</td>\n",
       "      <td>35</td>\n",
       "      <td>2</td>\n",
       "    </tr>\n",
       "    <tr>\n",
       "      <th>53</th>\n",
       "      <td>45815</td>\n",
       "      <td>13307</td>\n",
       "      <td>2003-05-18</td>\n",
       "      <td>0.0</td>\n",
       "      <td>49</td>\n",
       "      <td>4</td>\n",
       "    </tr>\n",
       "    <tr>\n",
       "      <th>66</th>\n",
       "      <td>191220</td>\n",
       "      <td>13307</td>\n",
       "      <td>2005-09-15</td>\n",
       "      <td>0.0</td>\n",
       "      <td>62</td>\n",
       "      <td>4</td>\n",
       "    </tr>\n",
       "    <tr>\n",
       "      <th>121</th>\n",
       "      <td>2325224</td>\n",
       "      <td>13307</td>\n",
       "      <td>2012-07-11</td>\n",
       "      <td>0.0</td>\n",
       "      <td>116</td>\n",
       "      <td>4</td>\n",
       "    </tr>\n",
       "    <tr>\n",
       "      <th>...</th>\n",
       "      <td>...</td>\n",
       "      <td>...</td>\n",
       "      <td>...</td>\n",
       "      <td>...</td>\n",
       "      <td>...</td>\n",
       "      <td>...</td>\n",
       "    </tr>\n",
       "    <tr>\n",
       "      <th>4211</th>\n",
       "      <td>38195</td>\n",
       "      <td>324905</td>\n",
       "      <td>2010-01-07</td>\n",
       "      <td>0.0</td>\n",
       "      <td>9144</td>\n",
       "      <td>104937</td>\n",
       "    </tr>\n",
       "    <tr>\n",
       "      <th>4215</th>\n",
       "      <td>11613</td>\n",
       "      <td>20596</td>\n",
       "      <td>2002-03-22</td>\n",
       "      <td>0.0</td>\n",
       "      <td>2761</td>\n",
       "      <td>104940</td>\n",
       "    </tr>\n",
       "    <tr>\n",
       "      <th>4230</th>\n",
       "      <td>62031</td>\n",
       "      <td>63808</td>\n",
       "      <td>2009-09-02</td>\n",
       "      <td>0.0</td>\n",
       "      <td>18827</td>\n",
       "      <td>104955</td>\n",
       "    </tr>\n",
       "    <tr>\n",
       "      <th>4233</th>\n",
       "      <td>808894</td>\n",
       "      <td>61330</td>\n",
       "      <td>2008-04-03</td>\n",
       "      <td>0.0</td>\n",
       "      <td>24249</td>\n",
       "      <td>104958</td>\n",
       "    </tr>\n",
       "    <tr>\n",
       "      <th>4235</th>\n",
       "      <td>182949</td>\n",
       "      <td>153943</td>\n",
       "      <td>2008-06-25</td>\n",
       "      <td>0.0</td>\n",
       "      <td>18694</td>\n",
       "      <td>104960</td>\n",
       "    </tr>\n",
       "  </tbody>\n",
       "</table>\n",
       "<p>10515 rows × 6 columns</p>\n",
       "</div>"
      ],
      "text/plain": [
       "      user_id  recipe_id        date  rating  user_id_n  recipe_id_n\n",
       "3       16346       7435  2001-08-23     0.0          3            1\n",
       "36     862099        278  2010-08-22     0.0         35            2\n",
       "53      45815      13307  2003-05-18     0.0         49            4\n",
       "66     191220      13307  2005-09-15     0.0         62            4\n",
       "121   2325224      13307  2012-07-11     0.0        116            4\n",
       "...       ...        ...         ...     ...        ...          ...\n",
       "4211    38195     324905  2010-01-07     0.0       9144       104937\n",
       "4215    11613      20596  2002-03-22     0.0       2761       104940\n",
       "4230    62031      63808  2009-09-02     0.0      18827       104955\n",
       "4233   808894      61330  2008-04-03     0.0      24249       104958\n",
       "4235   182949     153943  2008-06-25     0.0      18694       104960\n",
       "\n",
       "[10515 rows x 6 columns]"
      ]
     },
     "execution_count": 9,
     "metadata": {},
     "output_type": "execute_result"
    }
   ],
   "source": [
    "df[df[\"rating\"] == 0]"
   ]
  },
  {
   "cell_type": "markdown",
   "id": "monthly-wilson",
   "metadata": {},
   "source": [
    "#### RF-Rec Recommendations\n",
    "[This paper](http://ceur-ws.org/Vol-606/paper6.pdf) outlines the RF-Rec algorithm, which can predict missing ratings even on very sparse datasets, to a great degree of accuracy. "
   ]
  },
  {
   "cell_type": "code",
   "execution_count": 14,
   "id": "agricultural-translation",
   "metadata": {},
   "outputs": [
    {
     "data": {
      "text/html": [
       "<div>\n",
       "<style scoped>\n",
       "    .dataframe tbody tr th:only-of-type {\n",
       "        vertical-align: middle;\n",
       "    }\n",
       "\n",
       "    .dataframe tbody tr th {\n",
       "        vertical-align: top;\n",
       "    }\n",
       "\n",
       "    .dataframe thead th {\n",
       "        text-align: right;\n",
       "    }\n",
       "</style>\n",
       "<table border=\"1\" class=\"dataframe\">\n",
       "  <thead>\n",
       "    <tr style=\"text-align: right;\">\n",
       "      <th></th>\n",
       "      <th>I1</th>\n",
       "      <th>I2</th>\n",
       "      <th>I3</th>\n",
       "      <th>I4</th>\n",
       "      <th>I5</th>\n",
       "    </tr>\n",
       "    <tr>\n",
       "      <th>I0</th>\n",
       "      <th></th>\n",
       "      <th></th>\n",
       "      <th></th>\n",
       "      <th></th>\n",
       "      <th></th>\n",
       "    </tr>\n",
       "  </thead>\n",
       "  <tbody>\n",
       "    <tr>\n",
       "      <th>Alice</th>\n",
       "      <td>1.0</td>\n",
       "      <td>1.0</td>\n",
       "      <td>NaN</td>\n",
       "      <td>5</td>\n",
       "      <td>4.0</td>\n",
       "    </tr>\n",
       "    <tr>\n",
       "      <th>U1</th>\n",
       "      <td>2.0</td>\n",
       "      <td>NaN</td>\n",
       "      <td>5.0</td>\n",
       "      <td>5</td>\n",
       "      <td>5.0</td>\n",
       "    </tr>\n",
       "    <tr>\n",
       "      <th>U2</th>\n",
       "      <td>NaN</td>\n",
       "      <td>NaN</td>\n",
       "      <td>1.0</td>\n",
       "      <td>1</td>\n",
       "      <td>NaN</td>\n",
       "    </tr>\n",
       "    <tr>\n",
       "      <th>U3</th>\n",
       "      <td>NaN</td>\n",
       "      <td>5.0</td>\n",
       "      <td>1.0</td>\n",
       "      <td>1</td>\n",
       "      <td>2.0</td>\n",
       "    </tr>\n",
       "  </tbody>\n",
       "</table>\n",
       "</div>"
      ],
      "text/plain": [
       "        I1   I2   I3  I4   I5\n",
       "I0                           \n",
       "Alice  1.0  1.0  NaN   5  4.0\n",
       "U1     2.0  NaN  5.0   5  5.0\n",
       "U2     NaN  NaN  1.0   1  NaN\n",
       "U3     NaN  5.0  1.0   1  2.0"
      ]
     },
     "execution_count": 14,
     "metadata": {},
     "output_type": "execute_result"
    }
   ],
   "source": [
    "df = pd.DataFrame(columns=[f\"I{i}\" for i in range(6)], data=[\n",
    "    [\"Alice\", 1,1,None,5,4],\n",
    "    [\"U1\", 2,None,5,5,5],\n",
    "    [\"U2\", None, None, 1,1,None],\n",
    "    [\"U3\", None, 5,1,1,2],\n",
    "]).set_index(\"I0\")\n",
    "df"
   ]
  },
  {
   "cell_type": "code",
   "execution_count": 45,
   "id": "double-ranking",
   "metadata": {},
   "outputs": [],
   "source": [
    "def freqUser(u, r):\n",
    "    unique, counts = np.unique(df.loc[u].values, return_counts=True)\n",
    "    freqs = dict(zip(unique, counts))\n",
    "    if r in freqs:\n",
    "        return freqs[r]\n",
    "    return 0\n",
    "\n",
    "def freqItem(i, r):\n",
    "    unique, counts = np.unique(df[i].values, return_counts=True)\n",
    "    freqs = dict(zip(unique, counts))\n",
    "    if r in freqs:\n",
    "        return freqs[r]\n",
    "    return 0\n",
    "\n",
    "def ind_avg_user(u, r):\n",
    "    return round(df.loc[u].mean()) == r\n",
    "\n",
    "def ind_avg_item(i, r):\n",
    "    return round(df[i].mean()) == r"
   ]
  },
  {
   "cell_type": "code",
   "execution_count": 38,
   "id": "southwest-charity",
   "metadata": {},
   "outputs": [
    {
     "data": {
      "text/plain": [
       "0"
      ]
     },
     "execution_count": 38,
     "metadata": {},
     "output_type": "execute_result"
    }
   ],
   "source": [
    "freqItem(\"I4\", 4)"
   ]
  },
  {
   "cell_type": "code",
   "execution_count": 50,
   "id": "regular-review",
   "metadata": {},
   "outputs": [
    {
     "data": {
      "text/plain": [
       "1"
      ]
     },
     "execution_count": 50,
     "metadata": {},
     "output_type": "execute_result"
    }
   ],
   "source": [
    "predictForR = lambda u,i,r: (freqUser(u, r) + 1 + ind_avg_user(u, r)) * (freqItem(i, r) + 1 + ind_avg_item(i, r))\n",
    "\n",
    "possibleRatings = [1,2,3,4,5]\n",
    "possibleRatings[np.argmax([predictForR(\"Alice\", \"I4\", r) for r in possibleRatings])]"
   ]
  },
  {
   "cell_type": "markdown",
   "id": "emotional-reply",
   "metadata": {},
   "source": [
    "## Back to the training..."
   ]
  },
  {
   "cell_type": "code",
   "execution_count": 67,
   "id": "biblical-particle",
   "metadata": {},
   "outputs": [],
   "source": [
    "n_train = int(0.8 * len(ds_full))\n",
    "n_test = len(ds_full) - n_train\n",
    "rng = torch.Generator().manual_seed(291)\n",
    "ds_train, ds_test = torch.utils.data.random_split(ds_full, [n_train, n_test], rng)"
   ]
  },
  {
   "cell_type": "code",
   "execution_count": 68,
   "id": "identical-martial",
   "metadata": {},
   "outputs": [],
   "source": [
    "class RecipeRecs(nn.Module):\n",
    "    def __init__(self, n_users, n_recipes, emb_dim):\n",
    "        super(RecipeRecs, self).__init__()\n",
    "        self.user_emb = nn.Embedding(n_users, emb_dim)\n",
    "        self.user_bias = nn.Embedding(n_users, 1)\n",
    "        self.recipe_emb = nn.Embedding(n_recipes, emb_dim)\n",
    "        self.recipe_bias = nn.Embedding(n_recipes, 1)\n",
    "        nn.init.xavier_uniform_(self.user_emb.weight)\n",
    "        nn.init.xavier_uniform_(self.recipe_emb.weight)\n",
    "        nn.init.zeros_(self.user_bias.weight)\n",
    "        nn.init.zeros_(self.recipe_bias.weight)\n",
    "    \n",
    "    def forward(self, samples):\n",
    "        users = self.user_emb(samples[:,0])\n",
    "        recipes = self.recipe_emb(samples[:,1])\n",
    "        dot = (users * recipes).sum(1)\n",
    "        user_b = self.user_bias(samples[:,0]).squeeze()\n",
    "        recipe_b = self.recipe_bias(samples[:,1]).squeeze()\n",
    "        return dot + user_b + recipe_b"
   ]
  },
  {
   "cell_type": "code",
   "execution_count": 69,
   "id": "dimensional-gather",
   "metadata": {},
   "outputs": [],
   "source": [
    "device = torch.device('cpu')\n",
    "\n",
    "def run_test(model, ldr, crit):\n",
    "    total_loss, total_count = 0, 0\n",
    "    model.eval()\n",
    "    tq_iters = tqdm(ldr, leave=False, desc='test iter')\n",
    "    with torch.no_grad():\n",
    "        for coords, labels in tq_iters:\n",
    "            coords, labels = coords.to(device), labels.to(device)\n",
    "            preds = model(coords)\n",
    "            loss = crit(preds, labels)\n",
    "            total_loss += loss.item() * labels.size(0)\n",
    "            total_count += labels.size(0)\n",
    "            tq_iters.set_postfix({'loss': total_loss/total_count}, refresh=True)\n",
    "    return total_loss / total_count\n",
    "\n",
    "def run_train(model, ldr, crit, opt, sched):\n",
    "    model.train()\n",
    "    total_loss, total_count = 0, 0\n",
    "    tq_iters = tqdm(ldr, leave=False, desc='train iter')\n",
    "    for (coords, labels) in tq_iters:\n",
    "        opt.zero_grad()\n",
    "        coords, labels = coords.to(device), labels.to(device)\n",
    "        preds = model(coords)\n",
    "        loss = crit(preds, labels)\n",
    "        loss.backward()\n",
    "        opt.step()\n",
    "        sched.step()\n",
    "        total_loss += loss.item() * labels.size(0)\n",
    "        total_count += labels.size(0)\n",
    "        tq_iters.set_postfix({'loss': total_loss/total_count}, refresh=True)\n",
    "    return total_loss / total_count\n",
    "\n",
    "def run_all(model, ldr_train, ldr_test, crit, opt, sched, n_epochs=10):\n",
    "    best_loss = np.inf\n",
    "    tq_epochs = tqdm(range(n_epochs), desc='epochs', unit='ep')\n",
    "    for epoch in tq_epochs:\n",
    "        train_loss = run_train(model, ldr_train, crit, opt, sched)\n",
    "        test_loss = run_test(model, ldr_test, crit)\n",
    "        tqdm.write(f'epoch {epoch}   train loss {train_loss:.6f}    test loss {test_loss:.6f}')\n",
    "        if test_loss < best_loss:\n",
    "            best_loss = test_loss\n",
    "            tq_epochs.set_postfix({'bE': epoch, 'bL': best_loss}, refresh=True)"
   ]
  },
  {
   "cell_type": "code",
   "execution_count": 95,
   "id": "generic-chain",
   "metadata": {},
   "outputs": [
    {
     "data": {
      "application/vnd.jupyter.widget-view+json": {
       "model_id": "f810e388d376480e86fb4defa2ee5c6a",
       "version_major": 2,
       "version_minor": 0
      },
      "text/plain": [
       "epochs:   0%|          | 0/5 [00:00<?, ?ep/s]"
      ]
     },
     "metadata": {},
     "output_type": "display_data"
    },
    {
     "data": {
      "application/vnd.jupyter.widget-view+json": {
       "model_id": "",
       "version_major": 2,
       "version_minor": 0
      },
      "text/plain": [
       "train iter:   0%|          | 0/10509 [00:00<?, ?it/s]"
      ]
     },
     "metadata": {},
     "output_type": "display_data"
    },
    {
     "data": {
      "application/vnd.jupyter.widget-view+json": {
       "model_id": "",
       "version_major": 2,
       "version_minor": 0
      },
      "text/plain": [
       "test iter:   0%|          | 0/2628 [00:00<?, ?it/s]"
      ]
     },
     "metadata": {},
     "output_type": "display_data"
    },
    {
     "name": "stdout",
     "output_type": "stream",
     "text": [
      "epoch 0   train loss 5.887074    test loss 2.460643\n"
     ]
    },
    {
     "data": {
      "application/vnd.jupyter.widget-view+json": {
       "model_id": "",
       "version_major": 2,
       "version_minor": 0
      },
      "text/plain": [
       "train iter:   0%|          | 0/10509 [00:00<?, ?it/s]"
      ]
     },
     "metadata": {},
     "output_type": "display_data"
    },
    {
     "data": {
      "application/vnd.jupyter.widget-view+json": {
       "model_id": "",
       "version_major": 2,
       "version_minor": 0
      },
      "text/plain": [
       "test iter:   0%|          | 0/2628 [00:00<?, ?it/s]"
      ]
     },
     "metadata": {},
     "output_type": "display_data"
    },
    {
     "name": "stdout",
     "output_type": "stream",
     "text": [
      "epoch 1   train loss 1.633300    test loss 1.653874\n"
     ]
    },
    {
     "data": {
      "application/vnd.jupyter.widget-view+json": {
       "model_id": "",
       "version_major": 2,
       "version_minor": 0
      },
      "text/plain": [
       "train iter:   0%|          | 0/10509 [00:00<?, ?it/s]"
      ]
     },
     "metadata": {},
     "output_type": "display_data"
    },
    {
     "data": {
      "application/vnd.jupyter.widget-view+json": {
       "model_id": "",
       "version_major": 2,
       "version_minor": 0
      },
      "text/plain": [
       "test iter:   0%|          | 0/2628 [00:00<?, ?it/s]"
      ]
     },
     "metadata": {},
     "output_type": "display_data"
    },
    {
     "name": "stdout",
     "output_type": "stream",
     "text": [
      "epoch 2   train loss 0.927808    test loss 1.495855\n"
     ]
    },
    {
     "data": {
      "application/vnd.jupyter.widget-view+json": {
       "model_id": "",
       "version_major": 2,
       "version_minor": 0
      },
      "text/plain": [
       "train iter:   0%|          | 0/10509 [00:00<?, ?it/s]"
      ]
     },
     "metadata": {},
     "output_type": "display_data"
    },
    {
     "data": {
      "application/vnd.jupyter.widget-view+json": {
       "model_id": "",
       "version_major": 2,
       "version_minor": 0
      },
      "text/plain": [
       "test iter:   0%|          | 0/2628 [00:00<?, ?it/s]"
      ]
     },
     "metadata": {},
     "output_type": "display_data"
    },
    {
     "name": "stdout",
     "output_type": "stream",
     "text": [
      "epoch 3   train loss 0.523735    test loss 1.420870\n"
     ]
    },
    {
     "data": {
      "application/vnd.jupyter.widget-view+json": {
       "model_id": "",
       "version_major": 2,
       "version_minor": 0
      },
      "text/plain": [
       "train iter:   0%|          | 0/10509 [00:00<?, ?it/s]"
      ]
     },
     "metadata": {},
     "output_type": "display_data"
    },
    {
     "data": {
      "application/vnd.jupyter.widget-view+json": {
       "model_id": "",
       "version_major": 2,
       "version_minor": 0
      },
      "text/plain": [
       "test iter:   0%|          | 0/2628 [00:00<?, ?it/s]"
      ]
     },
     "metadata": {},
     "output_type": "display_data"
    },
    {
     "name": "stdout",
     "output_type": "stream",
     "text": [
      "epoch 4   train loss 0.270169    test loss 1.410772\n"
     ]
    }
   ],
   "source": [
    "model = RecipeRecs(ds_full.n_users, ds_full.n_recipes, 20)\n",
    "model.to(device)\n",
    "\n",
    "ldr_train = torch.utils.data.DataLoader(ds_train, batch_size=32, shuffle=True)\n",
    "ldr_test = torch.utils.data.DataLoader(ds_test, batch_size=32)\n",
    "\n",
    "n_epochs = 5\n",
    "\n",
    "crit = nn.MSELoss().to(device)\n",
    "opt = optim.SGD(model.parameters(), lr=1e-6, momentum=0.9)\n",
    "sched = optim.lr_scheduler.OneCycleLR(opt, max_lr=0.4, steps_per_epoch=len(ldr_train), epochs=n_epochs)\n",
    "\n",
    "run_all(model, ldr_train, ldr_test, crit, opt, sched, n_epochs)"
   ]
  },
  {
   "cell_type": "code",
   "execution_count": 92,
   "id": "regional-sponsorship",
   "metadata": {},
   "outputs": [],
   "source": [
    "def get_recommendations_for_user(model, dataset, user_id, batch_size=32):\n",
    "    user_n = dataset.u2n[user_id]\n",
    "    ratings = []\n",
    "    n2r = {value: key for key, value in dataset.r2n.items()}\n",
    "    model.eval()\n",
    "    with torch.no_grad():\n",
    "        for coords in torch.LongTensor([[user_n, i] for i in range(dataset.n_recipes)]).split(batch_size):\n",
    "            coords = coords.to(device)\n",
    "            preds = model(coords)\n",
    "            ratings += [(n2r[int(coords[i, 1])], float(preds[i])) for i in range(preds.shape[0])]\n",
    "    return sorted(ratings, key=lambda x: x[1], reverse=True)"
   ]
  },
  {
   "cell_type": "code",
   "execution_count": 94,
   "id": "annoying-november",
   "metadata": {
    "scrolled": false
   },
   "outputs": [
    {
     "data": {
      "text/plain": [
       "[(495577, 4.656217098236084),\n",
       " (5083, 4.089728832244873),\n",
       " (4065, 4.083194255828857),\n",
       " (495152, 3.9110963344573975),\n",
       " (145478, 3.8353042602539062),\n",
       " (125515, 3.7945594787597656),\n",
       " (108231, 3.777906894683838),\n",
       " (518229, 3.701632499694824),\n",
       " (110139, 3.696901321411133),\n",
       " (154304, 3.695032835006714)]"
      ]
     },
     "execution_count": 94,
     "metadata": {},
     "output_type": "execute_result"
    }
   ],
   "source": [
    "get_recommendations_for_user(model, ds_full, 2046)[:10]"
   ]
  },
  {
   "cell_type": "code",
   "execution_count": 96,
   "id": "regional-waste",
   "metadata": {},
   "outputs": [
    {
     "data": {
      "text/html": [
       "<div>\n",
       "<style scoped>\n",
       "    .dataframe tbody tr th:only-of-type {\n",
       "        vertical-align: middle;\n",
       "    }\n",
       "\n",
       "    .dataframe tbody tr th {\n",
       "        vertical-align: top;\n",
       "    }\n",
       "\n",
       "    .dataframe thead th {\n",
       "        text-align: right;\n",
       "    }\n",
       "</style>\n",
       "<table border=\"1\" class=\"dataframe\">\n",
       "  <thead>\n",
       "    <tr style=\"text-align: right;\">\n",
       "      <th></th>\n",
       "      <th>user_id</th>\n",
       "      <th>recipe_id</th>\n",
       "      <th>date</th>\n",
       "      <th>rating</th>\n",
       "      <th>u</th>\n",
       "      <th>user_id_n</th>\n",
       "      <th>recipe_id_n</th>\n",
       "    </tr>\n",
       "  </thead>\n",
       "  <tbody>\n",
       "    <tr>\n",
       "      <th>4255</th>\n",
       "      <td>1012958</td>\n",
       "      <td>226362</td>\n",
       "      <td>2010-01-06</td>\n",
       "      <td>5.0</td>\n",
       "      <td>24707</td>\n",
       "      <td>22871</td>\n",
       "      <td>104980</td>\n",
       "    </tr>\n",
       "    <tr>\n",
       "      <th>4256</th>\n",
       "      <td>378828</td>\n",
       "      <td>315583</td>\n",
       "      <td>2008-08-29</td>\n",
       "      <td>5.0</td>\n",
       "      <td>24797</td>\n",
       "      <td>20530</td>\n",
       "      <td>104981</td>\n",
       "    </tr>\n",
       "    <tr>\n",
       "      <th>4257</th>\n",
       "      <td>1341416</td>\n",
       "      <td>384116</td>\n",
       "      <td>2009-08-19</td>\n",
       "      <td>5.0</td>\n",
       "      <td>24839</td>\n",
       "      <td>23808</td>\n",
       "      <td>104982</td>\n",
       "    </tr>\n",
       "    <tr>\n",
       "      <th>4258</th>\n",
       "      <td>77850</td>\n",
       "      <td>469932</td>\n",
       "      <td>2012-09-16</td>\n",
       "      <td>4.0</td>\n",
       "      <td>24846</td>\n",
       "      <td>21689</td>\n",
       "      <td>104983</td>\n",
       "    </tr>\n",
       "    <tr>\n",
       "      <th>4259</th>\n",
       "      <td>1608591</td>\n",
       "      <td>31043</td>\n",
       "      <td>2010-09-28</td>\n",
       "      <td>4.0</td>\n",
       "      <td>24848</td>\n",
       "      <td>9165</td>\n",
       "      <td>104984</td>\n",
       "    </tr>\n",
       "    <tr>\n",
       "      <th>4260</th>\n",
       "      <td>1468267</td>\n",
       "      <td>192266</td>\n",
       "      <td>2012-04-17</td>\n",
       "      <td>4.0</td>\n",
       "      <td>24877</td>\n",
       "      <td>22623</td>\n",
       "      <td>104985</td>\n",
       "    </tr>\n",
       "    <tr>\n",
       "      <th>4261</th>\n",
       "      <td>142796</td>\n",
       "      <td>256343</td>\n",
       "      <td>2007-10-29</td>\n",
       "      <td>5.0</td>\n",
       "      <td>24914</td>\n",
       "      <td>22651</td>\n",
       "      <td>104986</td>\n",
       "    </tr>\n",
       "    <tr>\n",
       "      <th>4262</th>\n",
       "      <td>557416</td>\n",
       "      <td>247915</td>\n",
       "      <td>2007-10-25</td>\n",
       "      <td>5.0</td>\n",
       "      <td>25006</td>\n",
       "      <td>23337</td>\n",
       "      <td>104987</td>\n",
       "    </tr>\n",
       "    <tr>\n",
       "      <th>4263</th>\n",
       "      <td>218411</td>\n",
       "      <td>116676</td>\n",
       "      <td>2005-09-21</td>\n",
       "      <td>3.0</td>\n",
       "      <td>25008</td>\n",
       "      <td>20817</td>\n",
       "      <td>104988</td>\n",
       "    </tr>\n",
       "    <tr>\n",
       "      <th>4264</th>\n",
       "      <td>587445</td>\n",
       "      <td>206493</td>\n",
       "      <td>2008-07-16</td>\n",
       "      <td>5.0</td>\n",
       "      <td>25009</td>\n",
       "      <td>20500</td>\n",
       "      <td>104989</td>\n",
       "    </tr>\n",
       "  </tbody>\n",
       "</table>\n",
       "</div>"
      ],
      "text/plain": [
       "      user_id  recipe_id        date  rating      u  user_id_n  recipe_id_n\n",
       "4255  1012958     226362  2010-01-06     5.0  24707      22871       104980\n",
       "4256   378828     315583  2008-08-29     5.0  24797      20530       104981\n",
       "4257  1341416     384116  2009-08-19     5.0  24839      23808       104982\n",
       "4258    77850     469932  2012-09-16     4.0  24846      21689       104983\n",
       "4259  1608591      31043  2010-09-28     4.0  24848       9165       104984\n",
       "4260  1468267     192266  2012-04-17     4.0  24877      22623       104985\n",
       "4261   142796     256343  2007-10-29     5.0  24914      22651       104986\n",
       "4262   557416     247915  2007-10-25     5.0  25006      23337       104987\n",
       "4263   218411     116676  2005-09-21     3.0  25008      20817       104988\n",
       "4264   587445     206493  2008-07-16     5.0  25009      20500       104989"
      ]
     },
     "execution_count": 96,
     "metadata": {},
     "output_type": "execute_result"
    }
   ],
   "source": [
    "interactions.tail(10)"
   ]
  },
  {
   "cell_type": "code",
   "execution_count": 58,
   "id": "included-duration",
   "metadata": {},
   "outputs": [
    {
     "data": {
      "text/html": [
       "<div>\n",
       "<style scoped>\n",
       "    .dataframe tbody tr th:only-of-type {\n",
       "        vertical-align: middle;\n",
       "    }\n",
       "\n",
       "    .dataframe tbody tr th {\n",
       "        vertical-align: top;\n",
       "    }\n",
       "\n",
       "    .dataframe thead th {\n",
       "        text-align: right;\n",
       "    }\n",
       "</style>\n",
       "<table border=\"1\" class=\"dataframe\">\n",
       "  <thead>\n",
       "    <tr style=\"text-align: right;\">\n",
       "      <th></th>\n",
       "      <th>user_id</th>\n",
       "      <th>recipe_id</th>\n",
       "      <th>date</th>\n",
       "      <th>rating</th>\n",
       "      <th>u</th>\n",
       "      <th>user_id_n</th>\n",
       "      <th>recipe_id_n</th>\n",
       "    </tr>\n",
       "  </thead>\n",
       "  <tbody>\n",
       "    <tr>\n",
       "      <th>0</th>\n",
       "      <td>2046</td>\n",
       "      <td>517</td>\n",
       "      <td>2000-02-25</td>\n",
       "      <td>5.0</td>\n",
       "      <td>22095</td>\n",
       "      <td>0</td>\n",
       "      <td>0</td>\n",
       "    </tr>\n",
       "    <tr>\n",
       "      <th>39</th>\n",
       "      <td>2046</td>\n",
       "      <td>3431</td>\n",
       "      <td>2000-04-07</td>\n",
       "      <td>5.0</td>\n",
       "      <td>22095</td>\n",
       "      <td>0</td>\n",
       "      <td>3</td>\n",
       "    </tr>\n",
       "    <tr>\n",
       "      <th>47</th>\n",
       "      <td>2046</td>\n",
       "      <td>13307</td>\n",
       "      <td>2000-05-21</td>\n",
       "      <td>5.0</td>\n",
       "      <td>22095</td>\n",
       "      <td>0</td>\n",
       "      <td>4</td>\n",
       "    </tr>\n",
       "  </tbody>\n",
       "</table>\n",
       "</div>"
      ],
      "text/plain": [
       "    user_id  recipe_id        date  rating      u  user_id_n  recipe_id_n\n",
       "0      2046        517  2000-02-25     5.0  22095          0            0\n",
       "39     2046       3431  2000-04-07     5.0  22095          0            3\n",
       "47     2046      13307  2000-05-21     5.0  22095          0            4"
      ]
     },
     "execution_count": 58,
     "metadata": {},
     "output_type": "execute_result"
    }
   ],
   "source": [
    "interactions.query(\"user_id_n == 0\")"
   ]
  },
  {
   "cell_type": "code",
   "execution_count": null,
   "id": "detected-document",
   "metadata": {},
   "outputs": [],
   "source": []
  }
 ],
 "metadata": {
  "kernelspec": {
   "display_name": "Python 3",
   "language": "python",
   "name": "python3"
  },
  "language_info": {
   "codemirror_mode": {
    "name": "ipython",
    "version": 3
   },
   "file_extension": ".py",
   "mimetype": "text/x-python",
   "name": "python",
   "nbconvert_exporter": "python",
   "pygments_lexer": "ipython3",
   "version": "3.8.5"
  }
 },
 "nbformat": 4,
 "nbformat_minor": 5
}